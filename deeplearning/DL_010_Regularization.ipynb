{
 "cells": [
  {
   "cell_type": "markdown",
   "id": "6b044e3d",
   "metadata": {},
   "source": [
    "# Regularization\n",
    "\n",
    "Get the necessary files for the next session from https://www.kaggle.com/datasets/zalando-research/fashionmnist\n"
   ]
  },
  {
   "cell_type": "markdown",
   "id": "0f965a17",
   "metadata": {},
   "source": [
    "## Preparing the data (Fashion MNIST)"
   ]
  },
  {
   "cell_type": "code",
   "execution_count": 1,
   "id": "e9930901",
   "metadata": {},
   "outputs": [
    {
     "name": "stdout",
     "output_type": "stream",
     "text": [
      "2.10.0\n"
     ]
    }
   ],
   "source": [
    "#!pip install scikit-learn\n",
    "#!pip install tensorflow==2.10\n",
    "import pandas as pd\n",
    "import numpy as np\n",
    "import tensorflow as tf \n",
    "import matplotlib.pyplot as plt\n",
    "from tensorflow.keras.models import Sequential\n",
    "from tensorflow.keras.layers import Dense\n",
    "print(\"Tesorflow version {tf.__version__}\")\n",
    "\n",
    "#read data with pandas\n",
    "dataTrain = pd.read_csv('data/fashion-mnist_train.csv')\n",
    "dataTest = pd.read_csv('data/fashion-mnist_test.csv')\n",
    "#convert to numpy and initialize variables for training\n",
    "X_train, y_train = dataTrain.iloc[:, 1:].to_numpy(), dataTrain.iloc[:, 0].to_numpy()\n",
    "X_test, y_test = dataTest.iloc[:, 1:].to_numpy(), dataTest.iloc[:, 0].to_numpy()\n",
    "\n",
    "#Define Classnames\n",
    "class_names = ['T-shirt/top', 'Trouser', 'Pullover', 'Dress', 'Coat',\n",
    "               'Sandal', 'Shirt', 'Sneaker', 'Bag', 'Ankle boot']\n",
    "print(tf.config.list_physical_devices('GPU'))\n",
    "\n",
    "# prepare ground truth as one-hot encoded values\n",
    "y_one_hot = tf.one_hot(y_train,len(class_names))\n",
    "y_one_hot_test = tf.one_hot(y_test,len(class_names))"
   ]
  },
  {
   "cell_type": "markdown",
   "id": "a22ff649",
   "metadata": {},
   "source": [
    "# Original Run / Reference Run"
   ]
  },
  {
   "cell_type": "code",
   "execution_count": 4,
   "id": "a0a6161d",
   "metadata": {},
   "outputs": [
    {
     "name": "stdout",
     "output_type": "stream",
     "text": [
      "Epoch 1/10\n",
      "600/600 [==============================] - 3s 4ms/step - loss: 1.1626 - accuracy: 0.6618\n",
      "Epoch 2/10\n",
      "600/600 [==============================] - 3s 6ms/step - loss: 0.7515 - accuracy: 0.7591\n",
      "Epoch 3/10\n",
      "600/600 [==============================] - 3s 6ms/step - loss: 0.6493 - accuracy: 0.7844\n",
      "Epoch 4/10\n",
      "600/600 [==============================] - 3s 6ms/step - loss: 0.5990 - accuracy: 0.7984\n",
      "Epoch 5/10\n",
      "600/600 [==============================] - 3s 6ms/step - loss: 0.5728 - accuracy: 0.8044\n",
      "Epoch 6/10\n",
      "600/600 [==============================] - 3s 6ms/step - loss: 0.5569 - accuracy: 0.8071\n",
      "Epoch 7/10\n",
      "600/600 [==============================] - 3s 6ms/step - loss: 0.5413 - accuracy: 0.8113\n",
      "Epoch 8/10\n",
      "600/600 [==============================] - 4s 6ms/step - loss: 0.5371 - accuracy: 0.8120\n",
      "Epoch 9/10\n",
      "600/600 [==============================] - 4s 7ms/step - loss: 0.5367 - accuracy: 0.8108\n",
      "Epoch 10/10\n",
      "600/600 [==============================] - 4s 6ms/step - loss: 0.5272 - accuracy: 0.8141\n",
      "Evaluation on Test Data\n",
      "313/313 [==============================] - 1s 4ms/step - loss: 0.5264 - accuracy: 0.8179\n",
      "[0.5264333486557007, 0.8179000020027161]\n"
     ]
    }
   ],
   "source": [
    "model = Sequential()\n",
    "model.add(Dense(100, activation=\"sigmoid\", input_shape=(784,)))\n",
    "model.add(Dense(len(class_names), activation=\"softmax\"))\n",
    "model.compile(optimizer='sgd', loss=\"categorical_crossentropy\", metrics=[\"accuracy\"])\n",
    "\n",
    "model.fit(\n",
    "    X_train,\n",
    "    y_one_hot,\n",
    "    epochs=10,\n",
    "    batch_size=100)\n",
    "\n",
    "print(\"\\nEvaluation on Test Data\")\n",
    "print(model.evaluate(X_test, y_one_hot_test))"
   ]
  },
  {
   "cell_type": "markdown",
   "id": "c01651b3",
   "metadata": {},
   "source": [
    "# Now make the model overfitting\n",
    "\n",
    "Complex Model (more Layers, more neurons) are more likely to overfit. Less data is more likely to overfit. We raise the number of epochs to learn longer. The learning rate has to be adjusted in order to make the model learn effectively."
   ]
  },
  {
   "cell_type": "code",
   "execution_count": 11,
   "id": "dc69d2c9",
   "metadata": {},
   "outputs": [
    {
     "name": "stdout",
     "output_type": "stream",
     "text": [
      "Epoch 1/30\n",
      "100/100 [==============================] - 2s 10ms/step - loss: 15.7190 - accuracy: 0.6505\n",
      "Epoch 2/30\n",
      "100/100 [==============================] - 1s 8ms/step - loss: 1.0978 - accuracy: 0.7544\n",
      "Epoch 3/30\n",
      "100/100 [==============================] - 1s 6ms/step - loss: 0.7653 - accuracy: 0.7932\n",
      "Epoch 4/30\n",
      "100/100 [==============================] - 1s 6ms/step - loss: 0.5907 - accuracy: 0.8179\n",
      "Epoch 5/30\n",
      "100/100 [==============================] - 1s 7ms/step - loss: 0.4921 - accuracy: 0.8413\n",
      "Epoch 6/30\n",
      "100/100 [==============================] - 1s 6ms/step - loss: 0.4172 - accuracy: 0.8548\n",
      "Epoch 7/30\n",
      "100/100 [==============================] - 1s 6ms/step - loss: 0.3674 - accuracy: 0.8723\n",
      "Epoch 8/30\n",
      "100/100 [==============================] - 1s 7ms/step - loss: 0.3312 - accuracy: 0.8829\n",
      "Epoch 9/30\n",
      "100/100 [==============================] - 1s 6ms/step - loss: 0.2998 - accuracy: 0.8924\n",
      "Epoch 10/30\n",
      "100/100 [==============================] - 1s 6ms/step - loss: 0.2765 - accuracy: 0.9003\n",
      "Epoch 11/30\n",
      "100/100 [==============================] - 1s 7ms/step - loss: 0.2614 - accuracy: 0.9043\n",
      "Epoch 12/30\n",
      "100/100 [==============================] - 1s 6ms/step - loss: 0.2460 - accuracy: 0.9099\n",
      "Epoch 13/30\n",
      "100/100 [==============================] - 1s 6ms/step - loss: 0.2302 - accuracy: 0.9156\n",
      "Epoch 14/30\n",
      "100/100 [==============================] - 1s 6ms/step - loss: 0.2235 - accuracy: 0.9171\n",
      "Epoch 15/30\n",
      "100/100 [==============================] - 1s 7ms/step - loss: 0.2088 - accuracy: 0.9231\n",
      "Epoch 16/30\n",
      "100/100 [==============================] - 1s 6ms/step - loss: 0.1982 - accuracy: 0.9234\n",
      "Epoch 17/30\n",
      "100/100 [==============================] - 1s 6ms/step - loss: 0.1933 - accuracy: 0.9283\n",
      "Epoch 18/30\n",
      "100/100 [==============================] - 1s 7ms/step - loss: 0.1812 - accuracy: 0.9362\n",
      "Epoch 19/30\n",
      "100/100 [==============================] - 1s 7ms/step - loss: 0.1773 - accuracy: 0.9355\n",
      "Epoch 20/30\n",
      "100/100 [==============================] - 1s 6ms/step - loss: 0.1716 - accuracy: 0.9363\n",
      "Epoch 21/30\n",
      "100/100 [==============================] - 1s 7ms/step - loss: 0.1631 - accuracy: 0.9399\n",
      "Epoch 22/30\n",
      "100/100 [==============================] - 1s 6ms/step - loss: 0.1578 - accuracy: 0.9422\n",
      "Epoch 23/30\n",
      "100/100 [==============================] - 1s 6ms/step - loss: 0.1514 - accuracy: 0.9441\n",
      "Epoch 24/30\n",
      "100/100 [==============================] - 1s 6ms/step - loss: 0.1470 - accuracy: 0.9463\n",
      "Epoch 25/30\n",
      "100/100 [==============================] - 1s 6ms/step - loss: 0.1426 - accuracy: 0.9495\n",
      "Epoch 26/30\n",
      "100/100 [==============================] - 1s 6ms/step - loss: 0.1382 - accuracy: 0.9496\n",
      "Epoch 27/30\n",
      "100/100 [==============================] - 1s 6ms/step - loss: 0.1349 - accuracy: 0.9511\n",
      "Epoch 28/30\n",
      "100/100 [==============================] - 1s 7ms/step - loss: 0.1295 - accuracy: 0.9519\n",
      "Epoch 29/30\n",
      "100/100 [==============================] - 1s 6ms/step - loss: 0.1259 - accuracy: 0.9568\n",
      "Epoch 30/30\n",
      "100/100 [==============================] - 1s 6ms/step - loss: 0.1212 - accuracy: 0.9579\n"
     ]
    },
    {
     "data": {
      "text/plain": [
       "<keras.callbacks.History at 0x1d0881bb280>"
      ]
     },
     "execution_count": 11,
     "metadata": {},
     "output_type": "execute_result"
    }
   ],
   "source": [
    "from tensorflow.keras.optimizers.experimental import SGD\n",
    "model = Sequential([\n",
    "      Dense(512, activation='relu'),\n",
    "      Dense(512, activation='relu'),\n",
    "      Dense(10, activation=\"softmax\")\n",
    "      ])\n",
    "model.compile(optimizer=SGD(learning_rate=0.001), loss=\"categorical_crossentropy\", metrics=['accuracy'])\n",
    "model.fit(\n",
    "    X_test,\n",
    "    y_one_hot_test,\n",
    "    epochs=30,\n",
    "    batch_size=100)\n"
   ]
  },
  {
   "cell_type": "code",
   "execution_count": 12,
   "id": "a42c7c2d",
   "metadata": {},
   "outputs": [
    {
     "name": "stdout",
     "output_type": "stream",
     "text": [
      "Evaluation on Training Data\n",
      "10/10 [==============================] - 0s 25ms/step - loss: 0.9999 - accuracy: 0.8024\n",
      "[0.9999175667762756, 0.8023999929428101]\n"
     ]
    }
   ],
   "source": [
    "print(\"Evaluation on Training Data\")\n",
    "print(model.evaluate(X_train[0:10000], y_one_hot[0:10000], batch_size=1000))"
   ]
  },
  {
   "cell_type": "markdown",
   "id": "49c0d77a",
   "metadata": {},
   "source": [
    "# Dropout Layer - Instantiation and Effects"
   ]
  },
  {
   "cell_type": "code",
   "execution_count": 15,
   "id": "21b438fe",
   "metadata": {},
   "outputs": [
    {
     "data": {
      "text/plain": [
       "<keras.layers.regularization.dropout.Dropout at 0x1d1866ec8b0>"
      ]
     },
     "execution_count": 15,
     "metadata": {},
     "output_type": "execute_result"
    }
   ],
   "source": [
    "from tensorflow.keras.layers import Dropout \n",
    "\n",
    "dropout = Dropout(rate=0.2)\n",
    "dropout"
   ]
  },
  {
   "cell_type": "code",
   "execution_count": 38,
   "id": "69911b7f",
   "metadata": {},
   "outputs": [
    {
     "data": {
      "image/png": "[encoded data removed]",
      "text/plain": [
       "<Figure size 400x400 with 4 Axes>"
      ]
     },
     "metadata": {},
     "output_type": "display_data"
    }
   ],
   "source": [
    "X_train_28x28 = X_train.reshape(-1,28,28).astype(float)[0:2]\n",
    "modified = dropout(X_train_28x28, training=True)\n",
    "\n",
    "fig, axs = plt.subplots(2, 2, figsize=(4, 4))\n",
    "\n",
    "for index, img in enumerate(X_train_28x28):\n",
    "    axs[index,0].imshow(img, cmap=\"gray_r\")\n",
    "    axs[index,1].imshow(modified[index], cmap=\"gray_r\")\n"
   ]
  },
  {
   "cell_type": "markdown",
   "id": "ad839358",
   "metadata": {},
   "source": [
    "# Regularization with Dropout"
   ]
  },
  {
   "cell_type": "code",
   "execution_count": 17,
   "id": "87299b55",
   "metadata": {},
   "outputs": [
    {
     "name": "stdout",
     "output_type": "stream",
     "text": [
      "Epoch 1/60\n",
      "100/100 [==============================] - 1s 5ms/step - loss: 28.0870 - accuracy: 0.5538\n",
      "Epoch 2/60\n",
      "100/100 [==============================] - 0s 4ms/step - loss: 2.2482 - accuracy: 0.6309\n",
      "Epoch 3/60\n",
      "100/100 [==============================] - 0s 4ms/step - loss: 1.6457 - accuracy: 0.6515\n",
      "Epoch 4/60\n",
      "100/100 [==============================] - 1s 6ms/step - loss: 1.3651 - accuracy: 0.6644\n",
      "Epoch 5/60\n",
      "100/100 [==============================] - 1s 6ms/step - loss: 1.1848 - accuracy: 0.6700\n",
      "Epoch 6/60\n",
      "100/100 [==============================] - 1s 6ms/step - loss: 1.0691 - accuracy: 0.6866\n",
      "Epoch 7/60\n",
      "100/100 [==============================] - 1s 7ms/step - loss: 1.0105 - accuracy: 0.6947\n",
      "Epoch 8/60\n",
      "100/100 [==============================] - 1s 6ms/step - loss: 0.9425 - accuracy: 0.6998\n",
      "Epoch 9/60\n",
      "100/100 [==============================] - 1s 6ms/step - loss: 0.8762 - accuracy: 0.7107\n",
      "Epoch 10/60\n",
      "100/100 [==============================] - 1s 6ms/step - loss: 0.8308 - accuracy: 0.7162\n",
      "Epoch 11/60\n",
      "100/100 [==============================] - 1s 6ms/step - loss: 0.8058 - accuracy: 0.7228\n",
      "Epoch 12/60\n",
      "100/100 [==============================] - 1s 7ms/step - loss: 0.7833 - accuracy: 0.7206\n",
      "Epoch 13/60\n",
      "100/100 [==============================] - 1s 6ms/step - loss: 0.7411 - accuracy: 0.7340\n",
      "Epoch 14/60\n",
      "100/100 [==============================] - 1s 6ms/step - loss: 0.7222 - accuracy: 0.7407\n",
      "Epoch 15/60\n",
      "100/100 [==============================] - 1s 6ms/step - loss: 0.6971 - accuracy: 0.7493\n",
      "Epoch 16/60\n",
      "100/100 [==============================] - 1s 6ms/step - loss: 0.6955 - accuracy: 0.7444\n",
      "Epoch 17/60\n",
      "100/100 [==============================] - 1s 6ms/step - loss: 0.6838 - accuracy: 0.7460\n",
      "Epoch 18/60\n",
      "100/100 [==============================] - 1s 6ms/step - loss: 0.6721 - accuracy: 0.7532\n",
      "Epoch 19/60\n",
      "100/100 [==============================] - 1s 6ms/step - loss: 0.6654 - accuracy: 0.7561\n",
      "Epoch 20/60\n",
      "100/100 [==============================] - 1s 7ms/step - loss: 0.6397 - accuracy: 0.7576\n",
      "Epoch 21/60\n",
      "100/100 [==============================] - 1s 6ms/step - loss: 0.6302 - accuracy: 0.7725\n",
      "Epoch 22/60\n",
      "100/100 [==============================] - 1s 6ms/step - loss: 0.6221 - accuracy: 0.7666\n",
      "Epoch 23/60\n",
      "100/100 [==============================] - 1s 6ms/step - loss: 0.6026 - accuracy: 0.7771\n",
      "Epoch 24/60\n",
      "100/100 [==============================] - 1s 7ms/step - loss: 0.6014 - accuracy: 0.7766\n",
      "Epoch 25/60\n",
      "100/100 [==============================] - 1s 6ms/step - loss: 0.5861 - accuracy: 0.7799\n",
      "Epoch 26/60\n",
      "100/100 [==============================] - 1s 6ms/step - loss: 0.5763 - accuracy: 0.7861\n",
      "Epoch 27/60\n",
      "100/100 [==============================] - 1s 6ms/step - loss: 0.5824 - accuracy: 0.7811\n",
      "Epoch 28/60\n",
      "100/100 [==============================] - 1s 7ms/step - loss: 0.5794 - accuracy: 0.7806\n",
      "Epoch 29/60\n",
      "100/100 [==============================] - 1s 6ms/step - loss: 0.5804 - accuracy: 0.7847\n",
      "Epoch 30/60\n",
      "100/100 [==============================] - 1s 6ms/step - loss: 0.5652 - accuracy: 0.7892\n",
      "Epoch 31/60\n",
      "100/100 [==============================] - 1s 7ms/step - loss: 0.5562 - accuracy: 0.7910\n",
      "Epoch 32/60\n",
      "100/100 [==============================] - 1s 6ms/step - loss: 0.5483 - accuracy: 0.7950\n",
      "Epoch 33/60\n",
      "100/100 [==============================] - 1s 6ms/step - loss: 0.5484 - accuracy: 0.7918\n",
      "Epoch 34/60\n",
      "100/100 [==============================] - 1s 6ms/step - loss: 0.5369 - accuracy: 0.7985\n",
      "Epoch 35/60\n",
      "100/100 [==============================] - 1s 7ms/step - loss: 0.5401 - accuracy: 0.7947\n",
      "Epoch 36/60\n",
      "100/100 [==============================] - 1s 6ms/step - loss: 0.5255 - accuracy: 0.7995\n",
      "Epoch 37/60\n",
      "100/100 [==============================] - 1s 6ms/step - loss: 0.5275 - accuracy: 0.8012\n",
      "Epoch 38/60\n",
      "100/100 [==============================] - 1s 7ms/step - loss: 0.5116 - accuracy: 0.8065\n",
      "Epoch 39/60\n",
      "100/100 [==============================] - 1s 6ms/step - loss: 0.5193 - accuracy: 0.8033\n",
      "Epoch 40/60\n",
      "100/100 [==============================] - 1s 6ms/step - loss: 0.5133 - accuracy: 0.8070\n",
      "Epoch 41/60\n",
      "100/100 [==============================] - 1s 6ms/step - loss: 0.5070 - accuracy: 0.8063\n",
      "Epoch 42/60\n",
      "100/100 [==============================] - 1s 6ms/step - loss: 0.5020 - accuracy: 0.8079\n",
      "Epoch 43/60\n",
      "100/100 [==============================] - 1s 6ms/step - loss: 0.4984 - accuracy: 0.8105\n",
      "Epoch 44/60\n",
      "100/100 [==============================] - 1s 6ms/step - loss: 0.4927 - accuracy: 0.8141\n",
      "Epoch 45/60\n",
      "100/100 [==============================] - 1s 6ms/step - loss: 0.4972 - accuracy: 0.8106\n",
      "Epoch 46/60\n",
      "100/100 [==============================] - 1s 6ms/step - loss: 0.5058 - accuracy: 0.8069\n",
      "Epoch 47/60\n",
      "100/100 [==============================] - 1s 7ms/step - loss: 0.4978 - accuracy: 0.8109\n",
      "Epoch 48/60\n",
      "100/100 [==============================] - 1s 6ms/step - loss: 0.4913 - accuracy: 0.8142\n",
      "Epoch 49/60\n",
      "100/100 [==============================] - 1s 6ms/step - loss: 0.4908 - accuracy: 0.8174\n",
      "Epoch 50/60\n",
      "100/100 [==============================] - 1s 6ms/step - loss: 0.4840 - accuracy: 0.8179\n",
      "Epoch 51/60\n",
      "100/100 [==============================] - 1s 6ms/step - loss: 0.4815 - accuracy: 0.8179\n",
      "Epoch 52/60\n",
      "100/100 [==============================] - 1s 6ms/step - loss: 0.4817 - accuracy: 0.8137\n",
      "Epoch 53/60\n",
      "100/100 [==============================] - 1s 6ms/step - loss: 0.4785 - accuracy: 0.8119\n",
      "Epoch 54/60\n",
      "100/100 [==============================] - 1s 6ms/step - loss: 0.4800 - accuracy: 0.8175\n",
      "Epoch 55/60\n",
      "100/100 [==============================] - 1s 6ms/step - loss: 0.4680 - accuracy: 0.8206\n",
      "Epoch 56/60\n",
      "100/100 [==============================] - 1s 6ms/step - loss: 0.4641 - accuracy: 0.8235\n",
      "Epoch 57/60\n",
      "100/100 [==============================] - 1s 6ms/step - loss: 0.4704 - accuracy: 0.8206\n",
      "Epoch 58/60\n",
      "100/100 [==============================] - 1s 7ms/step - loss: 0.4680 - accuracy: 0.8198\n",
      "Epoch 59/60\n",
      "100/100 [==============================] - 1s 7ms/step - loss: 0.4609 - accuracy: 0.8227\n",
      "Epoch 60/60\n",
      "100/100 [==============================] - 1s 6ms/step - loss: 0.4668 - accuracy: 0.8206\n"
     ]
    },
    {
     "data": {
      "text/plain": [
       "<keras.callbacks.History at 0x1d18671c9a0>"
      ]
     },
     "execution_count": 17,
     "metadata": {},
     "output_type": "execute_result"
    }
   ],
   "source": [
    "from tensorflow.keras.optimizers.experimental import SGD\n",
    "model = Sequential([\n",
    "      Dropout(rate=0.2, input_shape=(784,)),\n",
    "      Dense(512, activation='relu'),\n",
    "      Dense(512, activation='relu'),\n",
    "      Dense(10, activation=\"softmax\")\n",
    "      ])\n",
    "\n",
    "model.compile(optimizer=SGD(learning_rate=0.001), loss=\"categorical_crossentropy\", metrics=['accuracy'])\n",
    "\n",
    "model.fit(\n",
    "    X_test,\n",
    "    y_one_hot_test,\n",
    "    epochs=60,\n",
    "    batch_size=100)"
   ]
  },
  {
   "cell_type": "code",
   "execution_count": 18,
   "id": "ccf5e962",
   "metadata": {},
   "outputs": [
    {
     "name": "stdout",
     "output_type": "stream",
     "text": [
      "Evaluation on Training Data\n",
      "10/10 [==============================] - 0s 24ms/step - loss: 0.4979 - accuracy: 0.8192\n",
      "[0.4978620707988739, 0.8191999793052673]\n"
     ]
    }
   ],
   "source": [
    "print(\"Evaluation on Training Data\")\n",
    "print(model.evaluate(X_train[0:10000], y_one_hot[0:10000], batch_size=1000))"
   ]
  },
  {
   "cell_type": "markdown",
   "id": "0302adfb",
   "metadata": {},
   "source": [
    "# Regularization with Weight penalties"
   ]
  },
  {
   "cell_type": "code",
   "execution_count": 34,
   "id": "5bb80d77",
   "metadata": {},
   "outputs": [
    {
     "name": "stdout",
     "output_type": "stream",
     "text": [
      "Epoch 1/60\n",
      "100/100 [==============================] - 1s 5ms/step - loss: 260.0240 - accuracy: 0.5894\n",
      "Epoch 2/60\n",
      "100/100 [==============================] - 0s 5ms/step - loss: 203.8573 - accuracy: 0.7040\n",
      "Epoch 3/60\n",
      "100/100 [==============================] - 1s 5ms/step - loss: 187.9824 - accuracy: 0.7377\n",
      "Epoch 4/60\n",
      "100/100 [==============================] - 1s 7ms/step - loss: 173.4285 - accuracy: 0.7658\n",
      "Epoch 5/60\n",
      "100/100 [==============================] - 1s 7ms/step - loss: 160.0475 - accuracy: 0.7939\n",
      "Epoch 6/60\n",
      "100/100 [==============================] - 1s 7ms/step - loss: 147.7294 - accuracy: 0.8071\n",
      "Epoch 7/60\n",
      "100/100 [==============================] - 1s 7ms/step - loss: 136.3610 - accuracy: 0.8274\n",
      "Epoch 8/60\n",
      "100/100 [==============================] - 1s 7ms/step - loss: 125.8893 - accuracy: 0.8335\n",
      "Epoch 9/60\n",
      "100/100 [==============================] - 1s 7ms/step - loss: 116.2142 - accuracy: 0.8482\n",
      "Epoch 10/60\n",
      "100/100 [==============================] - 1s 7ms/step - loss: 107.2926 - accuracy: 0.8551\n",
      "Epoch 11/60\n",
      "100/100 [==============================] - 1s 7ms/step - loss: 99.0569 - accuracy: 0.8619\n",
      "Epoch 12/60\n",
      "100/100 [==============================] - 1s 7ms/step - loss: 91.4661 - accuracy: 0.8667\n",
      "Epoch 13/60\n",
      "100/100 [==============================] - 1s 7ms/step - loss: 84.4519 - accuracy: 0.8732\n",
      "Epoch 14/60\n",
      "100/100 [==============================] - 1s 7ms/step - loss: 77.9754 - accuracy: 0.8772\n",
      "Epoch 15/60\n",
      "100/100 [==============================] - 1s 7ms/step - loss: 72.0039 - accuracy: 0.8833\n",
      "Epoch 16/60\n",
      "100/100 [==============================] - 1s 7ms/step - loss: 66.4897 - accuracy: 0.8838\n",
      "Epoch 17/60\n",
      "100/100 [==============================] - 1s 7ms/step - loss: 61.3953 - accuracy: 0.8912\n",
      "Epoch 18/60\n",
      "100/100 [==============================] - 1s 7ms/step - loss: 56.7009 - accuracy: 0.8918\n",
      "Epoch 19/60\n",
      "100/100 [==============================] - 1s 7ms/step - loss: 52.3674 - accuracy: 0.8951\n",
      "Epoch 20/60\n",
      "100/100 [==============================] - 1s 7ms/step - loss: 48.3665 - accuracy: 0.8964\n",
      "Epoch 21/60\n",
      "100/100 [==============================] - 1s 7ms/step - loss: 44.6776 - accuracy: 0.8969\n",
      "Epoch 22/60\n",
      "100/100 [==============================] - 1s 7ms/step - loss: 41.2603 - accuracy: 0.9017\n",
      "Epoch 23/60\n",
      "100/100 [==============================] - 1s 7ms/step - loss: 38.1193 - accuracy: 0.9028\n",
      "Epoch 24/60\n",
      "100/100 [==============================] - 1s 7ms/step - loss: 35.2167 - accuracy: 0.8985\n",
      "Epoch 25/60\n",
      "100/100 [==============================] - 1s 7ms/step - loss: 32.5421 - accuracy: 0.9018\n",
      "Epoch 26/60\n",
      "100/100 [==============================] - 1s 7ms/step - loss: 30.0627 - accuracy: 0.9048\n",
      "Epoch 27/60\n",
      "100/100 [==============================] - 1s 7ms/step - loss: 27.7771 - accuracy: 0.9048\n",
      "Epoch 28/60\n",
      "100/100 [==============================] - 1s 7ms/step - loss: 25.6818 - accuracy: 0.9018\n",
      "Epoch 29/60\n",
      "100/100 [==============================] - 1s 7ms/step - loss: 23.7275 - accuracy: 0.9059\n",
      "Epoch 30/60\n",
      "100/100 [==============================] - 1s 7ms/step - loss: 21.9341 - accuracy: 0.9081\n",
      "Epoch 31/60\n",
      "100/100 [==============================] - 1s 7ms/step - loss: 20.2790 - accuracy: 0.9079\n",
      "Epoch 32/60\n",
      "100/100 [==============================] - 1s 7ms/step - loss: 18.7419 - accuracy: 0.9121\n",
      "Epoch 33/60\n",
      "100/100 [==============================] - 1s 7ms/step - loss: 17.3406 - accuracy: 0.9062\n",
      "Epoch 34/60\n",
      "100/100 [==============================] - 1s 7ms/step - loss: 16.0357 - accuracy: 0.9050\n",
      "Epoch 35/60\n",
      "100/100 [==============================] - 1s 7ms/step - loss: 14.8376 - accuracy: 0.9067\n",
      "Epoch 36/60\n",
      "100/100 [==============================] - 1s 7ms/step - loss: 13.7254 - accuracy: 0.9085\n",
      "Epoch 37/60\n",
      "100/100 [==============================] - 1s 7ms/step - loss: 12.7010 - accuracy: 0.9080\n",
      "Epoch 38/60\n",
      "100/100 [==============================] - 1s 7ms/step - loss: 11.7607 - accuracy: 0.9044\n",
      "Epoch 39/60\n",
      "100/100 [==============================] - 1s 7ms/step - loss: 10.8742 - accuracy: 0.9141\n",
      "Epoch 40/60\n",
      "100/100 [==============================] - 1s 7ms/step - loss: 10.0676 - accuracy: 0.9103\n",
      "Epoch 41/60\n",
      "100/100 [==============================] - 1s 7ms/step - loss: 9.3443 - accuracy: 0.9070\n",
      "Epoch 42/60\n",
      "100/100 [==============================] - 1s 7ms/step - loss: 8.6441 - accuracy: 0.9095\n",
      "Epoch 43/60\n",
      "100/100 [==============================] - 1s 7ms/step - loss: 8.0066 - accuracy: 0.9104\n",
      "Epoch 44/60\n",
      "100/100 [==============================] - 1s 7ms/step - loss: 7.4251 - accuracy: 0.9089\n",
      "Epoch 45/60\n",
      "100/100 [==============================] - 1s 7ms/step - loss: 6.8950 - accuracy: 0.9051\n",
      "Epoch 46/60\n",
      "100/100 [==============================] - 1s 7ms/step - loss: 6.3907 - accuracy: 0.9077\n",
      "Epoch 47/60\n",
      "100/100 [==============================] - 1s 7ms/step - loss: 5.9416 - accuracy: 0.9061\n",
      "Epoch 48/60\n",
      "100/100 [==============================] - 1s 7ms/step - loss: 5.5051 - accuracy: 0.9103\n",
      "Epoch 49/60\n",
      "100/100 [==============================] - 1s 7ms/step - loss: 5.1194 - accuracy: 0.9078\n",
      "Epoch 50/60\n",
      "100/100 [==============================] - 1s 7ms/step - loss: 4.7612 - accuracy: 0.9083\n",
      "Epoch 51/60\n",
      "100/100 [==============================] - 1s 7ms/step - loss: 4.4117 - accuracy: 0.9162\n",
      "Epoch 52/60\n",
      "100/100 [==============================] - 1s 7ms/step - loss: 4.1166 - accuracy: 0.9090\n",
      "Epoch 53/60\n",
      "100/100 [==============================] - 1s 7ms/step - loss: 3.8235 - accuracy: 0.9137\n",
      "Epoch 54/60\n",
      "100/100 [==============================] - 1s 7ms/step - loss: 3.5653 - accuracy: 0.9083\n",
      "Epoch 55/60\n",
      "100/100 [==============================] - 1s 7ms/step - loss: 3.3267 - accuracy: 0.9077\n",
      "Epoch 56/60\n",
      "100/100 [==============================] - 1s 7ms/step - loss: 3.0980 - accuracy: 0.9101\n",
      "Epoch 57/60\n",
      "100/100 [==============================] - 1s 7ms/step - loss: 2.9001 - accuracy: 0.9079\n",
      "Epoch 58/60\n",
      "100/100 [==============================] - 1s 7ms/step - loss: 2.6981 - accuracy: 0.9115\n",
      "Epoch 59/60\n",
      "100/100 [==============================] - 1s 7ms/step - loss: 2.5235 - accuracy: 0.9106\n",
      "Epoch 60/60\n",
      "100/100 [==============================] - 1s 7ms/step - loss: 2.3708 - accuracy: 0.9097\n"
     ]
    },
    {
     "data": {
      "text/plain": [
       "<keras.callbacks.History at 0x1d1969005e0>"
      ]
     },
     "execution_count": 34,
     "metadata": {},
     "output_type": "execute_result"
    }
   ],
   "source": [
    "from tensorflow.keras.optimizers.experimental import SGD\n",
    "from tensorflow.keras.regularizers import L2 \n",
    "model = Sequential([\n",
    "      Dense(512, activation='relu', kernel_regularizer=L2(0.2)),\n",
    "      Dense(512, activation='relu', kernel_regularizer=L2(0.2)),\n",
    "      Dense(10, activation=\"softmax\")\n",
    "      ])\n",
    "\n",
    "model.compile(optimizer=SGD(learning_rate=0.001), loss=\"categorical_crossentropy\", metrics=['accuracy'])\n",
    "\n",
    "model.fit(\n",
    "    X_test,\n",
    "    y_one_hot_test,\n",
    "    epochs=60,\n",
    "    batch_size=100)"
   ]
  },
  {
   "cell_type": "code",
   "execution_count": 33,
   "id": "3044b934",
   "metadata": {},
   "outputs": [
    {
     "name": "stdout",
     "output_type": "stream",
     "text": [
      "Evaluation on Training Data\n",
      "10/10 [==============================] - 0s 24ms/step - loss: 0.8828 - accuracy: 0.8455\n",
      "[0.8827620148658752, 0.8454999923706055]\n"
     ]
    }
   ],
   "source": [
    "print(\"Evaluation on Training Data\")\n",
    "print(model.evaluate(X_train[0:10000], y_one_hot[0:10000], batch_size=1000))"
   ]
  },
  {
   "cell_type": "markdown",
   "id": "1f2fb75c",
   "metadata": {},
   "source": [
    "# Now both "
   ]
  },
  {
   "cell_type": "code",
   "execution_count": 37,
   "id": "167ca3e1",
   "metadata": {},
   "outputs": [
    {
     "name": "stdout",
     "output_type": "stream",
     "text": [
      "Epoch 1/60\n",
      "100/100 [==============================] - 2s 12ms/step - loss: 130.3855 - accuracy: 0.5981\n",
      "Epoch 2/60\n",
      "100/100 [==============================] - 1s 8ms/step - loss: 108.5873 - accuracy: 0.6655\n",
      "Epoch 3/60\n",
      "100/100 [==============================] - 1s 8ms/step - loss: 103.8040 - accuracy: 0.6920\n",
      "Epoch 4/60\n",
      "100/100 [==============================] - 1s 8ms/step - loss: 99.5596 - accuracy: 0.6964\n",
      "Epoch 5/60\n",
      "100/100 [==============================] - 1s 8ms/step - loss: 95.5121 - accuracy: 0.7066\n",
      "Epoch 6/60\n",
      "100/100 [==============================] - 1s 8ms/step - loss: 91.6921 - accuracy: 0.7320\n",
      "Epoch 7/60\n",
      "100/100 [==============================] - 1s 7ms/step - loss: 88.0379 - accuracy: 0.7344\n",
      "Epoch 8/60\n",
      "100/100 [==============================] - 1s 8ms/step - loss: 84.5571 - accuracy: 0.7448\n",
      "Epoch 9/60\n",
      "100/100 [==============================] - 1s 8ms/step - loss: 81.1874 - accuracy: 0.7628\n",
      "Epoch 10/60\n",
      "100/100 [==============================] - 1s 8ms/step - loss: 77.9824 - accuracy: 0.7699\n",
      "Epoch 11/60\n",
      "100/100 [==============================] - 1s 8ms/step - loss: 74.9144 - accuracy: 0.7710\n",
      "Epoch 12/60\n",
      "100/100 [==============================] - 1s 8ms/step - loss: 71.9534 - accuracy: 0.7768\n",
      "Epoch 13/60\n",
      "100/100 [==============================] - 1s 8ms/step - loss: 69.1288 - accuracy: 0.7864\n",
      "Epoch 14/60\n",
      "100/100 [==============================] - 1s 8ms/step - loss: 66.4169 - accuracy: 0.7901\n",
      "Epoch 15/60\n",
      "100/100 [==============================] - 1s 8ms/step - loss: 63.8042 - accuracy: 0.7918\n",
      "Epoch 16/60\n",
      "100/100 [==============================] - 1s 8ms/step - loss: 61.3042 - accuracy: 0.7964\n",
      "Epoch 17/60\n",
      "100/100 [==============================] - 1s 8ms/step - loss: 58.8901 - accuracy: 0.8050\n",
      "Epoch 18/60\n",
      "100/100 [==============================] - 1s 8ms/step - loss: 56.5913 - accuracy: 0.8037\n",
      "Epoch 19/60\n",
      "100/100 [==============================] - 1s 8ms/step - loss: 54.3686 - accuracy: 0.8165\n",
      "Epoch 20/60\n",
      "100/100 [==============================] - 1s 8ms/step - loss: 52.2503 - accuracy: 0.8132\n",
      "Epoch 21/60\n",
      "100/100 [==============================] - 1s 8ms/step - loss: 50.1990 - accuracy: 0.8208\n",
      "Epoch 22/60\n",
      "100/100 [==============================] - 1s 8ms/step - loss: 48.2459 - accuracy: 0.8226\n",
      "Epoch 23/60\n",
      "100/100 [==============================] - 1s 8ms/step - loss: 46.3601 - accuracy: 0.8219\n",
      "Epoch 24/60\n",
      "100/100 [==============================] - 1s 8ms/step - loss: 44.5450 - accuracy: 0.8287\n",
      "Epoch 25/60\n",
      "100/100 [==============================] - 1s 8ms/step - loss: 42.8039 - accuracy: 0.8321\n",
      "Epoch 26/60\n",
      "100/100 [==============================] - 1s 8ms/step - loss: 41.1342 - accuracy: 0.8316\n",
      "Epoch 27/60\n",
      "100/100 [==============================] - 1s 8ms/step - loss: 39.5231 - accuracy: 0.8367\n",
      "Epoch 28/60\n",
      "100/100 [==============================] - 1s 8ms/step - loss: 37.9868 - accuracy: 0.8424\n",
      "Epoch 29/60\n",
      "100/100 [==============================] - 1s 8ms/step - loss: 36.5063 - accuracy: 0.8444\n",
      "Epoch 30/60\n",
      "100/100 [==============================] - 1s 8ms/step - loss: 35.0860 - accuracy: 0.8439\n",
      "Epoch 31/60\n",
      "100/100 [==============================] - 1s 8ms/step - loss: 33.7170 - accuracy: 0.8487\n",
      "Epoch 32/60\n",
      "100/100 [==============================] - 1s 8ms/step - loss: 32.4070 - accuracy: 0.8465\n",
      "Epoch 33/60\n",
      "100/100 [==============================] - 1s 8ms/step - loss: 31.1463 - accuracy: 0.8523\n",
      "Epoch 34/60\n",
      "100/100 [==============================] - 1s 8ms/step - loss: 29.9364 - accuracy: 0.8509\n",
      "Epoch 35/60\n",
      "100/100 [==============================] - 1s 8ms/step - loss: 28.7771 - accuracy: 0.8543\n",
      "Epoch 36/60\n",
      "100/100 [==============================] - 1s 8ms/step - loss: 27.6511 - accuracy: 0.8611\n",
      "Epoch 37/60\n",
      "100/100 [==============================] - 1s 8ms/step - loss: 26.5858 - accuracy: 0.8569\n",
      "Epoch 38/60\n",
      "100/100 [==============================] - 1s 8ms/step - loss: 25.5530 - accuracy: 0.8581\n",
      "Epoch 39/60\n",
      "100/100 [==============================] - 1s 8ms/step - loss: 24.5511 - accuracy: 0.8658\n",
      "Epoch 40/60\n",
      "100/100 [==============================] - 1s 8ms/step - loss: 23.5996 - accuracy: 0.8682\n",
      "Epoch 41/60\n",
      "100/100 [==============================] - 1s 8ms/step - loss: 22.6894 - accuracy: 0.8679\n",
      "Epoch 42/60\n",
      "100/100 [==============================] - 1s 8ms/step - loss: 21.8122 - accuracy: 0.8692\n",
      "Epoch 43/60\n",
      "100/100 [==============================] - 1s 8ms/step - loss: 20.9672 - accuracy: 0.8717\n",
      "Epoch 44/60\n",
      "100/100 [==============================] - 1s 8ms/step - loss: 20.1541 - accuracy: 0.8746\n",
      "Epoch 45/60\n",
      "100/100 [==============================] - 1s 8ms/step - loss: 19.3814 - accuracy: 0.8715\n",
      "Epoch 46/60\n",
      "100/100 [==============================] - 1s 8ms/step - loss: 18.6306 - accuracy: 0.8728\n",
      "Epoch 47/60\n",
      "100/100 [==============================] - 1s 8ms/step - loss: 17.9173 - accuracy: 0.8735\n",
      "Epoch 48/60\n",
      "100/100 [==============================] - 1s 8ms/step - loss: 17.2206 - accuracy: 0.8757\n",
      "Epoch 49/60\n",
      "100/100 [==============================] - 1s 8ms/step - loss: 16.5594 - accuracy: 0.8757\n",
      "Epoch 50/60\n",
      "100/100 [==============================] - 1s 8ms/step - loss: 15.9199 - accuracy: 0.8801\n",
      "Epoch 51/60\n",
      "100/100 [==============================] - 1s 8ms/step - loss: 15.3126 - accuracy: 0.8780\n",
      "Epoch 52/60\n",
      "100/100 [==============================] - 1s 8ms/step - loss: 14.7184 - accuracy: 0.8824\n",
      "Epoch 53/60\n",
      "100/100 [==============================] - 1s 8ms/step - loss: 14.1580 - accuracy: 0.8795\n",
      "Epoch 54/60\n",
      "100/100 [==============================] - 1s 8ms/step - loss: 13.6159 - accuracy: 0.8821\n",
      "Epoch 55/60\n",
      "100/100 [==============================] - 1s 8ms/step - loss: 13.0861 - accuracy: 0.8885\n",
      "Epoch 56/60\n",
      "100/100 [==============================] - 1s 8ms/step - loss: 12.5964 - accuracy: 0.8787\n",
      "Epoch 57/60\n",
      "100/100 [==============================] - 1s 8ms/step - loss: 12.1071 - accuracy: 0.8852\n",
      "Epoch 58/60\n",
      "100/100 [==============================] - 1s 8ms/step - loss: 11.6517 - accuracy: 0.8841\n",
      "Epoch 59/60\n",
      "100/100 [==============================] - 1s 8ms/step - loss: 11.2031 - accuracy: 0.8893\n",
      "Epoch 60/60\n",
      "100/100 [==============================] - 1s 8ms/step - loss: 10.7739 - accuracy: 0.8919\n",
      "Evaluation on Training Data\n",
      "10/10 [==============================] - 0s 15ms/step - loss: 10.6405 - accuracy: 0.8652\n",
      "[10.64050579071045, 0.8651999831199646]\n"
     ]
    }
   ],
   "source": [
    "from tensorflow.keras.optimizers.experimental import SGD\n",
    "from tensorflow.keras.regularizers import L2 \n",
    "model = Sequential([\n",
    "      Dropout(rate=0.1, input_shape=(784,)),\n",
    "      Dense(512, activation='relu', kernel_regularizer=L2(0.1)),\n",
    "      Dense(512, activation='relu', kernel_regularizer=L2(0.1)),\n",
    "      Dropout(rate=0.1, input_shape=(784,)),\n",
    "      Dense(10, activation=\"softmax\")\n",
    "      ])\n",
    "\n",
    "model.compile(optimizer=SGD(learning_rate=0.001), loss=\"categorical_crossentropy\", metrics=['accuracy'])\n",
    "\n",
    "model.fit(\n",
    "    X_test,\n",
    "    y_one_hot_test,\n",
    "    epochs=60,\n",
    "    batch_size=100)\n",
    "\n",
    "print(\"Evaluation on Training Data\")\n",
    "print(model.evaluate(X_train[0:10000], y_one_hot[0:10000], batch_size=1000))"
   ]
  }
 ],
 "metadata": {
  "kernelspec": {
   "display_name": "Python 3 (ipykernel)",
   "language": "python",
   "name": "python3"
  },
  "language_info": {
   "codemirror_mode": {
    "name": "ipython",
    "version": 3
   },
   "file_extension": ".py",
   "mimetype": "text/x-python",
   "name": "python",
   "nbconvert_exporter": "python",
   "pygments_lexer": "ipython3",
   "version": "3.10.9"
  }
 },
 "nbformat": 4,
 "nbformat_minor": 5
}
