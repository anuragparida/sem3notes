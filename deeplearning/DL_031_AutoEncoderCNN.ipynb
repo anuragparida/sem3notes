{
 "cells": [
  {
   "cell_type": "markdown",
   "metadata": {},
   "source": [
    "# Autoencoder With CNN"
   ]
  },
  {
   "cell_type": "code",
   "execution_count": 1,
   "metadata": {
    "id": "W3fXoIlphGBH"
   },
   "outputs": [],
   "source": [
    "# Importing tensorflow\n",
    "import tensorflow as tf\n",
    "# Importing some more libraries\n",
    "import numpy as np\n",
    "import matplotlib.pyplot as plt\n",
    "from tensorflow import keras\n",
    "from tensorflow.keras import layers"
   ]
  },
  {
   "cell_type": "markdown",
   "metadata": {
    "id": "R9DPwpOpFh7H"
   },
   "source": [
    "## Load the data"
   ]
  },
  {
   "cell_type": "code",
   "execution_count": 2,
   "metadata": {
    "colab": {
     "base_uri": "https://localhost:8080/"
    },
    "id": "5_Bta2zjFk3L",
    "outputId": "c98a4508-8201-4396-8ab0-28379070d610"
   },
   "outputs": [
    {
     "name": "stdout",
     "output_type": "stream",
     "text": [
      "(60000, 784)\n",
      "(10000, 784)\n"
     ]
    }
   ],
   "source": [
    "from keras.datasets import mnist\n",
    "import numpy as np\n",
    "#(x_train, _), (x_test, _) = mnist.load_data()\n",
    "\n",
    "## Import dataset MNIST-Fashion dataset\n",
    "(x_train, _), (x_test, _) = keras.datasets.fashion_mnist.load_data()\n",
    "\n",
    "x_train = x_train.astype('float32') / 255.\n",
    "x_test = x_test.astype('float32') / 255.\n",
    "x_train = x_train.reshape((len(x_train), np.prod(x_train.shape[1:])))\n",
    "x_test = x_test.reshape((len(x_test), np.prod(x_test.shape[1:])))\n",
    "print(x_train.shape)\n",
    "print(x_test.shape)\n",
    "\n",
    "x_train= x_train.reshape(-1, 28, 28, 1)\n",
    "x_test= x_test.reshape(-1, 28, 28, 1)\n"
   ]
  },
  {
   "cell_type": "code",
   "execution_count": 3,
   "metadata": {
    "id": "RyBA1NtVHPxw"
   },
   "outputs": [],
   "source": [
    "# Use Matplotlib (don't ask)\n",
    "import matplotlib.pyplot as plt\n",
    "\n",
    "def compare(original, encoded, decoded, n=10):\n",
    "  plt.figure(figsize=(20, 4))\n",
    "  for i in range(n):\n",
    "    # Display original\n",
    "    ax = plt.subplot(3, n, i + 1)\n",
    "    plt.imshow(original[i].reshape(28, 28),cmap='binary')\n",
    "    ax.get_xaxis().set_visible(False)\n",
    "    ax.get_yaxis().set_visible(False)\n",
    "\n",
    "    # Display reconstruction\n",
    "    ax = plt.subplot(3, n, i + 1 + n)\n",
    "    plt.imshow(decoded[i].reshape(28, 28),cmap='binary')\n",
    "    ax.get_xaxis().set_visible(False)\n",
    "    ax.get_yaxis().set_visible(False)\n",
    "  plt.show()\n",
    "\n",
    "\n"
   ]
  },
  {
   "cell_type": "markdown",
   "metadata": {
    "id": "96nPFRb-rhz6"
   },
   "source": [
    "## A deep autoencoder with convolutions"
   ]
  },
  {
   "cell_type": "code",
   "execution_count": 4,
   "metadata": {
    "id": "Lxb-cKwargsR"
   },
   "outputs": [],
   "source": [
    "import keras\n",
    "from keras import layers\n",
    "\n",
    "input_img = keras.Input(shape=(28, 28, 1))\n",
    "\n",
    "x = layers.Conv2D(16, (3, 3), activation='relu', padding='same')(input_img)\n",
    "x = layers.MaxPooling2D((2, 2), padding='same')(x)\n",
    "x = layers.Conv2D(8, (3, 3), activation='relu', padding='same')(x)\n",
    "x = layers.MaxPooling2D((2, 2), padding='same')(x)\n",
    "x = layers.Conv2D(8, (3, 3), activation='relu', padding='same')(x)\n",
    "encoded = layers.MaxPooling2D((2, 2), padding='same')(x)\n",
    "\n",
    "# at this point the representation is (4, 4, 8) i.e. 128-dimensional\n",
    "\n",
    "x = layers.Conv2D(8, (3, 3), activation='relu', padding='same')(encoded)\n",
    "x = layers.UpSampling2D((2, 2))(x)\n",
    "x = layers.Conv2D(8, (3, 3), activation='relu', padding='same')(x)\n",
    "x = layers.UpSampling2D((2, 2))(x)\n",
    "x = layers.Conv2D(16, (3, 3), activation='relu')(x)\n",
    "x = layers.UpSampling2D((2, 2))(x)\n",
    "decoded = layers.Conv2D(1, (3, 3), activation='sigmoid', padding='same')(x)\n",
    "\n",
    "autoencoder = keras.Model(input_img, decoded)\n",
    "autoencoder.compile(optimizer='adam', loss='binary_crossentropy')\n"
   ]
  },
  {
   "cell_type": "code",
   "execution_count": 5,
   "metadata": {
    "colab": {
     "base_uri": "https://localhost:8080/"
    },
    "id": "gqdiOlOOsvg_",
    "outputId": "754f4d17-2192-4b69-e401-f48bf87ed033",
    "scrolled": false
   },
   "outputs": [
    {
     "name": "stdout",
     "output_type": "stream",
     "text": [
      "Epoch 1/30\n",
      "469/469 [==============================] - 13s 16ms/step - loss: 0.3517 - val_loss: 0.3072\n",
      "Epoch 2/30\n",
      "469/469 [==============================] - 6s 12ms/step - loss: 0.3010 - val_loss: 0.2994\n",
      "Epoch 3/30\n",
      "469/469 [==============================] - 6s 13ms/step - loss: 0.2953 - val_loss: 0.2955\n",
      "Epoch 4/30\n",
      "469/469 [==============================] - 7s 15ms/step - loss: 0.2922 - val_loss: 0.2931\n",
      "Epoch 5/30\n",
      "469/469 [==============================] - 6s 14ms/step - loss: 0.2901 - val_loss: 0.2914\n",
      "Epoch 6/30\n",
      "469/469 [==============================] - 6s 13ms/step - loss: 0.2886 - val_loss: 0.2900\n",
      "Epoch 7/30\n",
      "469/469 [==============================] - 6s 12ms/step - loss: 0.2874 - val_loss: 0.2888\n",
      "Epoch 8/30\n",
      "469/469 [==============================] - 6s 13ms/step - loss: 0.2865 - val_loss: 0.2885\n",
      "Epoch 9/30\n",
      "469/469 [==============================] - 6s 12ms/step - loss: 0.2856 - val_loss: 0.2877\n",
      "Epoch 10/30\n",
      "469/469 [==============================] - 6s 12ms/step - loss: 0.2849 - val_loss: 0.2868\n",
      "Epoch 11/30\n",
      "469/469 [==============================] - 6s 12ms/step - loss: 0.2843 - val_loss: 0.2868\n",
      "Epoch 12/30\n",
      "469/469 [==============================] - 6s 12ms/step - loss: 0.2838 - val_loss: 0.2856\n",
      "Epoch 13/30\n",
      "469/469 [==============================] - 6s 13ms/step - loss: 0.2834 - val_loss: 0.2853\n",
      "Epoch 14/30\n",
      "469/469 [==============================] - 6s 13ms/step - loss: 0.2829 - val_loss: 0.2848\n",
      "Epoch 15/30\n",
      "469/469 [==============================] - 6s 13ms/step - loss: 0.2826 - val_loss: 0.2849\n",
      "Epoch 16/30\n",
      "469/469 [==============================] - 6s 12ms/step - loss: 0.2822 - val_loss: 0.2841\n",
      "Epoch 17/30\n",
      "469/469 [==============================] - 6s 12ms/step - loss: 0.2820 - val_loss: 0.2845\n",
      "Epoch 18/30\n",
      "469/469 [==============================] - 6s 12ms/step - loss: 0.2817 - val_loss: 0.2836\n",
      "Epoch 19/30\n",
      "469/469 [==============================] - 7s 14ms/step - loss: 0.2814 - val_loss: 0.2833\n",
      "Epoch 20/30\n",
      "469/469 [==============================] - 7s 16ms/step - loss: 0.2812 - val_loss: 0.2832\n",
      "Epoch 21/30\n",
      "469/469 [==============================] - 8s 16ms/step - loss: 0.2810 - val_loss: 0.2832\n",
      "Epoch 22/30\n",
      "469/469 [==============================] - 8s 16ms/step - loss: 0.2808 - val_loss: 0.2827\n",
      "Epoch 23/30\n",
      "469/469 [==============================] - 8s 16ms/step - loss: 0.2807 - val_loss: 0.2828\n",
      "Epoch 24/30\n",
      "469/469 [==============================] - 7s 15ms/step - loss: 0.2805 - val_loss: 0.2824\n",
      "Epoch 25/30\n",
      "469/469 [==============================] - 7s 15ms/step - loss: 0.2804 - val_loss: 0.2824\n",
      "Epoch 26/30\n",
      "469/469 [==============================] - 8s 18ms/step - loss: 0.2802 - val_loss: 0.2824\n",
      "Epoch 27/30\n",
      "469/469 [==============================] - 9s 20ms/step - loss: 0.2802 - val_loss: 0.2826\n",
      "Epoch 28/30\n",
      "469/469 [==============================] - 10s 21ms/step - loss: 0.2800 - val_loss: 0.2823\n",
      "Epoch 29/30\n",
      "469/469 [==============================] - 12s 26ms/step - loss: 0.2799 - val_loss: 0.2821\n",
      "Epoch 30/30\n",
      "469/469 [==============================] - 10s 21ms/step - loss: 0.2798 - val_loss: 0.2817\n"
     ]
    },
    {
     "data": {
      "text/plain": [
       "<keras.callbacks.History at 0x1a35a1df490>"
      ]
     },
     "execution_count": 5,
     "metadata": {},
     "output_type": "execute_result"
    }
   ],
   "source": [
    "autoencoder.fit(x_train, x_train,\n",
    "                epochs=30,\n",
    "                batch_size=128,\n",
    "                shuffle=True,\n",
    "                validation_data=(x_test, x_test))"
   ]
  },
  {
   "cell_type": "code",
   "execution_count": 6,
   "metadata": {
    "colab": {
     "base_uri": "https://localhost:8080/",
     "height": 186
    },
    "id": "SkPLp9Jc0Amd",
    "outputId": "51150687-d391-4a7a-dcd8-bfac6b2126fd"
   },
   "outputs": [
    {
     "name": "stdout",
     "output_type": "stream",
     "text": [
      "313/313 [==============================] - 2s 5ms/step\n"
     ]
    },
    {
     "data": {
      "image/png": "[encoded data removed]",
      "text/plain": [
       "<Figure size 2000x400 with 20 Axes>"
      ]
     },
     "metadata": {},
     "output_type": "display_data"
    }
   ],
   "source": [
    "decoded_imgs = autoencoder.predict(x_test)\n",
    "compare(x_test, np.ones((32,32)), decoded_imgs, 10)"
   ]
  }
 ],
 "metadata": {
  "colab": {
   "provenance": []
  },
  "kernelspec": {
   "display_name": "Python 3 (ipykernel)",
   "language": "python",
   "name": "python3"
  },
  "language_info": {
   "codemirror_mode": {
    "name": "ipython",
    "version": 3
   },
   "file_extension": ".py",
   "mimetype": "text/x-python",
   "name": "python",
   "nbconvert_exporter": "python",
   "pygments_lexer": "ipython3",
   "version": "3.10.9"
  }
 },
 "nbformat": 4,
 "nbformat_minor": 1
}
