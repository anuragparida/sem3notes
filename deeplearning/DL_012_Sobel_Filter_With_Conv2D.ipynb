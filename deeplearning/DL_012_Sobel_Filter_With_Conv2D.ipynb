{
 "cells": [
  {
   "cell_type": "markdown",
   "metadata": {},
   "source": [
    "# Sobel Filters With a Conv2D Layer"
   ]
  },
  {
   "cell_type": "code",
   "execution_count": null,
   "metadata": {},
   "outputs": [],
   "source": [
    "#!pip install scikit-learn\n",
    "#!pip install tensorflow==2.10\n",
    "import pandas as pd\n",
    "import numpy as np\n",
    "import tensorflow as tf \n",
    "import matplotlib.pyplot as plt\n",
    "from tensorflow.keras.models import Sequential\n",
    "from tensorflow.keras.layers import Dense, Conv2D, Flatten\n",
    "print(f\"Tesorflow version {tf.__version__}\")\n",
    "\n",
    "#read data with pandas\n",
    "dataTrain = pd.read_csv('data/fashion-mnist_train.csv')\n",
    "dataTest = pd.read_csv('data/fashion-mnist_test.csv')\n",
    "#convert to numpy and initialize variables for training\n",
    "X_train, y_train = dataTrain.iloc[:, 1:].to_numpy(), dataTrain.iloc[:, 0].to_numpy()\n",
    "X_test, y_test = dataTest.iloc[:, 1:].to_numpy(), dataTest.iloc[:, 0].to_numpy()"
   ]
  },
  {
   "cell_type": "code",
   "execution_count": null,
   "metadata": {},
   "outputs": [],
   "source": [
    "sobel_y = np.array([[ -1, -2, -1], \n",
    "                    [ 0, 0, 0], \n",
    "                    [ 1, 2, 1]])\n",
    "# vertical edge detection\n",
    "sobel_x = np.array([[-1, 0, 1],\n",
    "                   [-2, 0, 2],\n",
    "                   [-1, 0, 1]])"
   ]
  },
  {
   "cell_type": "code",
   "execution_count": null,
   "metadata": {},
   "outputs": [],
   "source": [
    "# Define 3x3 kernel with predefined weights\n",
    "weights = tf.constant(sobel_x, dtype=tf.float32)\n",
    "\n",
    "# Expand kernel to 4D shape for compatibility with input tensor\n",
    "kernel = tf.reshape(weights, [3, 3, 1, 1])\n",
    "model = Sequential()\n",
    "conv = Conv2D(1, \n",
    "                  kernel_size=(3,3),\n",
    "                  activation=\"sigmoid\", \n",
    "                  input_shape=(28, 28, 1), \n",
    "                  )\n",
    "model.add(conv)\n",
    "conv.set_weights([kernel, tf.zeros([1])]);\n",
    "model.summary()"
   ]
  },
  {
   "cell_type": "code",
   "execution_count": null,
   "metadata": {},
   "outputs": [],
   "source": [
    "rescaledImage = X_train[0]/255  # has to be rescaled because of the sigmoid\n",
    "result = model.predict(rescaledImage.reshape(1, 28,28,1))\n",
    "img = result.reshape(26,26) # image is smaller after filtering\n",
    "plt.imshow(np.abs(img), cmap='binary')"
   ]
  },
  {
   "cell_type": "markdown",
   "metadata": {},
   "source": [
    "Explain why we have gray background where we first started with white background (= 0 = no color) ?"
   ]
  },
  {
   "cell_type": "code",
   "execution_count": null,
   "metadata": {},
   "outputs": [],
   "source": [
    "# for comparison the original image\n",
    "plt.imshow(X_train[0].reshape(28,28)/255,cmap='binary')\n",
    "plt.show()"
   ]
  },
  {
   "cell_type": "markdown",
   "metadata": {},
   "source": [
    "## Applying the filter to a larger image "
   ]
  },
  {
   "cell_type": "code",
   "execution_count": null,
   "metadata": {},
   "outputs": [],
   "source": [
    "from PIL import Image\n",
    "import numpy as np\n",
    "\n",
    "# Load the image\n",
    "img = Image.open('oldtimer.jpg')\n",
    "# Convert to grayscale\n",
    "gray_img = img.convert('L')\n",
    "\n",
    "# Resize the image\n",
    "resized_img = gray_img.resize((224, 224))\n",
    "\n",
    "# Normalize the image to rang 0 to 1\n",
    "normalized_img = np.array(resized_img) / 255.0\n",
    "\n",
    "# Add an extra dimension for the CNN input\n",
    "normalized_img = np.expand_dims(normalized_img, axis=0)\n",
    "#same as: normalized_img = normalized_img.reshape(1,224,224)\n",
    "plt.imshow(normalized_img[0], 'gray')\n",
    "\n"
   ]
  },
  {
   "cell_type": "code",
   "execution_count": null,
   "metadata": {},
   "outputs": [],
   "source": [
    "result = model.predict(normalized_img.reshape(1, 224,224,1))\n",
    "plt.imshow(np.abs(result.reshape(222,222)-0.5), 'binary')"
   ]
  },
  {
   "cell_type": "markdown",
   "metadata": {},
   "source": [
    "## Conv2D Layer can have multiple Kernels"
   ]
  },
  {
   "cell_type": "code",
   "execution_count": null,
   "metadata": {},
   "outputs": [],
   "source": [
    "# We have two kernels in variables sobel_x, sobel_y in the format (x-dim, ydim)\n",
    "print(\"Filter one shape: \", sobel_x.shape)\n",
    "print(\"Filter two shape: \", sobel_y.shape)\n",
    "\n",
    "# How to bring then into a (x-dim, ydim, channels, kernels) ? \n",
    "# add code here:\n",
    "\n"
   ]
  },
  {
   "cell_type": "code",
   "execution_count": null,
   "metadata": {},
   "outputs": [],
   "source": [
    "# We convert the two kernels in sobel_x, sobel_y to the format (x-dim, ydim, channels, kernels)\n",
    "zipped = list(zip(sobel_x.reshape(-1), sobel_y.reshape(-1)))\n",
    "kernels = tf.reshape(tf.constant(zipped, dtype=tf.float32), [3, 3, 1, 2])\n",
    "\n",
    "model = Sequential()\n",
    "conv = Conv2D(2, \n",
    "              kernel_size=(3,3),\n",
    "              activation=\"sigmoid\", \n",
    "              input_shape=(28, 28, 1))\n",
    "model.add(conv)\n",
    "conv.set_weights([kernels, tf.zeros([2])]);\n",
    "print(f\"Kernel Dimensions: {kernels.shape}\")"
   ]
  },
  {
   "cell_type": "code",
   "execution_count": null,
   "metadata": {},
   "outputs": [],
   "source": [
    "rescaledImage = X_train[0]/255\n",
    "result = model.predict(rescaledImage.reshape(1, 28,28,1))\n",
    "print(result.shape)\n",
    "fig, (ax1,ax2) = plt.subplots(1,2)\n",
    "ax1.imshow(np.abs(result[0,:,:,0]), cmap='binary')\n",
    "ax2.imshow(np.abs(result[0,:,:,1]), cmap='binary')"
   ]
  }
 ],
 "metadata": {
  "kernelspec": {
   "display_name": "Python 3 (ipykernel)",
   "language": "python",
   "name": "python3"
  },
  "language_info": {
   "codemirror_mode": {
    "name": "ipython",
    "version": 3
   },
   "file_extension": ".py",
   "mimetype": "text/x-python",
   "name": "python",
   "nbconvert_exporter": "python",
   "pygments_lexer": "ipython3",
   "version": "3.10.9"
  }
 },
 "nbformat": 4,
 "nbformat_minor": 2
}
