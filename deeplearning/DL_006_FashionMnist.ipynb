{
 "cells": [
  {
   "cell_type": "markdown",
   "id": "6b044e3d",
   "metadata": {},
   "source": [
    "# First Tensorflow Example (Fashion MNIST)\n",
    "\n",
    "This Notebook is about detecting T-Shirts in Fashion MNIST. We limit it to T-Shirts to start with binary classification instead of multinomila classification.\n",
    "\n",
    "Get the necessary files for the next session from https://www.kaggle.com/datasets/zalando-research/fashionmnist\n"
   ]
  },
  {
   "cell_type": "markdown",
   "id": "dd6c8ae2",
   "metadata": {},
   "source": [
    "## Preparing the data"
   ]
  },
  {
   "cell_type": "code",
   "execution_count": null,
   "id": "10dc4fbe",
   "metadata": {},
   "outputs": [],
   "source": [
    "#!pip install scikit-learn\n",
    "#!pip install tensorflow==2.10\n",
    "import pandas as pd\n",
    "import numpy as np"
   ]
  },
  {
   "cell_type": "code",
   "execution_count": null,
   "id": "ba0bc9ac",
   "metadata": {},
   "outputs": [],
   "source": [
    "#read data with pandas\n",
    "dataTrain = pd.read_csv('data/fashion-mnist_train.csv')\n",
    "dataTest = pd.read_csv('data/fashion-mnist_test.csv')\n",
    "dataTrain"
   ]
  },
  {
   "cell_type": "code",
   "execution_count": null,
   "id": "f7333f31",
   "metadata": {},
   "outputs": [],
   "source": [
    "#convert to numpy\n",
    "X_train, y_train = dataTrain.iloc[:, 1:].to_numpy(), dataTrain.iloc[:, 0].to_numpy()\n",
    "X_test, y_test = dataTest.iloc[:, 1:].to_numpy(), dataTest.iloc[:, 0].to_numpy()\n",
    "\n",
    "print(\"Training-data\", X_train.shape)\n",
    "print(\"Test-data\", X_test.shape)\n"
   ]
  },
  {
   "cell_type": "code",
   "execution_count": null,
   "id": "8c153830",
   "metadata": {},
   "outputs": [],
   "source": [
    "#Define Classnames\n",
    "class_names = ['T-shirt/top', 'Trouser', 'Pullover', 'Dress', 'Coat',\n",
    "               'Sandal', 'Shirt', 'Sneaker', 'Bag', 'Ankle boot']\n",
    "class_names"
   ]
  },
  {
   "cell_type": "markdown",
   "id": "d330b0d1",
   "metadata": {},
   "source": [
    "### Plot some examples"
   ]
  },
  {
   "cell_type": "code",
   "execution_count": null,
   "id": "30340e07",
   "metadata": {},
   "outputs": [],
   "source": [
    "import matplotlib.pyplot as plt\n",
    "\n",
    "plt.figure(figsize=(10,10))\n",
    "for i in range(25):\n",
    "    plt.subplot(5,5,i+1)\n",
    "    plt.xticks([])\n",
    "    plt.yticks([])\n",
    "    plt.grid(False)\n",
    "    plt.imshow(X_train[i].reshape(28, 28), cmap=\"binary\") # grey_r\n",
    "    plt.xlabel(class_names[y_train[i]])\n",
    "plt.show()"
   ]
  },
  {
   "cell_type": "code",
   "execution_count": null,
   "id": "2492b1f0",
   "metadata": {},
   "outputs": [],
   "source": [
    "# get from classes to binary classification for t-shirts \n",
    "y_train = y_train == 0\n",
    "print(\"Nonzero\", np.count_nonzero(y_train)) # 6000 t-Shirts 10%\n",
    "y_test = y_test == 0\n",
    "print(\"Nonzero\", np.count_nonzero(y_test)) # 1000 t-Shirts 10%\n",
    "\n"
   ]
  },
  {
   "cell_type": "markdown",
   "id": "d9ea9524",
   "metadata": {},
   "source": [
    "# Now classify all T-Shirts"
   ]
  },
  {
   "cell_type": "code",
   "execution_count": null,
   "id": "678bf786",
   "metadata": {},
   "outputs": [],
   "source": [
    "import tensorflow as tf \n",
    "from tensorflow.keras.models import Sequential\n",
    "from tensorflow.keras.layers import Dense\n",
    "print(tf.__version__)"
   ]
  },
  {
   "cell_type": "code",
   "execution_count": null,
   "id": "b7a65543",
   "metadata": {},
   "outputs": [],
   "source": [
    "# for tensorflow 2.10 we need Cuda 11.2 (tensorflow 2.11 seems not to work in )\n",
    "# use the following code to hide the GPU\n",
    "import os\n",
    "os.environ['CUDA_VISIBLE_DEVICES'] = '-1'\n",
    "print(tf.config.list_physical_devices('GPU'))"
   ]
  },
  {
   "cell_type": "code",
   "execution_count": null,
   "id": "b21c619b",
   "metadata": {},
   "outputs": [],
   "source": [
    "model = Sequential()\n",
    "\n",
    "model.add(Dense(100, activation=\"sigmoid\", input_shape=(784,)))\n",
    "model.add(Dense(1, activation=\"sigmoid\"))\n",
    "\n",
    "model.compile(optimizer=\"sgd\", loss=\"binary_crossentropy\", metrics=[\"accuracy\"])"
   ]
  },
  {
   "cell_type": "code",
   "execution_count": null,
   "id": "5de3cf54",
   "metadata": {},
   "outputs": [],
   "source": [
    "print(model.summary())"
   ]
  },
  {
   "cell_type": "code",
   "execution_count": null,
   "id": "8990fdb0",
   "metadata": {},
   "outputs": [],
   "source": [
    "X_train.shape"
   ]
  },
  {
   "cell_type": "code",
   "execution_count": null,
   "id": "3f6e87f0",
   "metadata": {},
   "outputs": [],
   "source": [
    "model.fit(\n",
    "    X_train.reshape(60000, 784),\n",
    "    y_train,\n",
    "    epochs=10,\n",
    "    batch_size=1000)"
   ]
  },
  {
   "cell_type": "code",
   "execution_count": null,
   "id": "4fec3aa3",
   "metadata": {},
   "outputs": [],
   "source": [
    "model.evaluate(X_test.reshape(-1, 784), y_test)"
   ]
  },
  {
   "cell_type": "code",
   "execution_count": null,
   "id": "be1b54f6",
   "metadata": {},
   "outputs": [],
   "source": [
    "model.evaluate?"
   ]
  },
  {
   "cell_type": "code",
   "execution_count": null,
   "id": "ba061df5",
   "metadata": {},
   "outputs": [],
   "source": [
    "print(model.metrics_names)"
   ]
  },
  {
   "cell_type": "markdown",
   "id": "e6f38052",
   "metadata": {},
   "source": [
    "## For Comparison: Accuracy with SciKit Learn"
   ]
  },
  {
   "cell_type": "code",
   "execution_count": null,
   "id": "faba0343",
   "metadata": {},
   "outputs": [],
   "source": [
    "\n",
    "y_pred = model.predict(X_test)>0.5\n",
    "y_pred.shape"
   ]
  },
  {
   "cell_type": "code",
   "execution_count": null,
   "id": "738923a9",
   "metadata": {},
   "outputs": [],
   "source": [
    "from sklearn.metrics import accuracy_score   \n",
    "score = accuracy_score(y_test, y_pred)  \n",
    "score"
   ]
  },
  {
   "cell_type": "markdown",
   "id": "06d66d7c",
   "metadata": {},
   "source": [
    "# Now also plot a graph for the development of the loss"
   ]
  },
  {
   "cell_type": "code",
   "execution_count": null,
   "id": "0776dabc",
   "metadata": {},
   "outputs": [],
   "source": [
    "model.fit?"
   ]
  },
  {
   "cell_type": "code",
   "execution_count": null,
   "id": "c039e160",
   "metadata": {},
   "outputs": [],
   "source": [
    "# retrain now with storage of the history\n",
    "import time\n",
    "history = model.fit(\n",
    "    X_train.reshape(60000, 784),\n",
    "    y_train,\n",
    "    epochs=10,\n",
    "    batch_size=1)"
   ]
  },
  {
   "cell_type": "code",
   "execution_count": null,
   "id": "718cdcf3",
   "metadata": {},
   "outputs": [],
   "source": [
    "import matplotlib.pyplot as plt\n",
    "print(history.history.keys())\n",
    "#  \"Accuracy\"\n",
    "plt.plot(history.history['accuracy'])\n",
    "plt.title('model accuracy')\n",
    "plt.ylabel('accuracy')\n",
    "plt.xlabel('epoch')\n",
    "plt.legend(['accuracy'], loc='upper left')\n",
    "plt.show()\n",
    "# \"Loss\"\n",
    "plt.plot(history.history['loss'])\n",
    "plt.title('model loss')\n",
    "plt.ylabel('loss')\n",
    "plt.xlabel('epoch')\n",
    "plt.legend(['loss'], loc='upper left')\n",
    "plt.show()"
   ]
  },
  {
   "cell_type": "markdown",
   "id": "d2234c4c",
   "metadata": {},
   "source": [
    "# Exercises\n",
    "\n",
    "1) Experiment with prediction, Explore what you get with model.predict? , Try to set the batchsize, compare the speed\n",
    "\n",
    "2) Raise the number of epochs in training ? What can you observe, how long will we still improve ? Is this real improovement or just overfitting ?\n",
    "\n",
    "3) How good is the result 95% ? \n",
    "\n",
    "3) Convert this to a multinomial model with all classes\n",
    "    * research tf.one_hot\n",
    "    * do not use GPU because you get better error messages without"
   ]
  }
 ],
 "metadata": {
  "kernelspec": {
   "display_name": "Python 3 (ipykernel)",
   "language": "python",
   "name": "python3"
  },
  "language_info": {
   "codemirror_mode": {
    "name": "ipython",
    "version": 3
   },
   "file_extension": ".py",
   "mimetype": "text/x-python",
   "name": "python",
   "nbconvert_exporter": "python",
   "pygments_lexer": "ipython3",
   "version": "3.10.9"
  }
 },
 "nbformat": 4,
 "nbformat_minor": 5
}
