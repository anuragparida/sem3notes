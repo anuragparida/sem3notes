{
 "cells": [
  {
   "cell_type": "markdown",
   "metadata": {},
   "source": [
    "# An LSTM to generate text bases on chars "
   ]
  },
  {
   "cell_type": "code",
   "execution_count": 2,
   "metadata": {},
   "outputs": [],
   "source": [
    "import numpy as np\n",
    "import keras"
   ]
  },
  {
   "cell_type": "code",
   "execution_count": 3,
   "metadata": {},
   "outputs": [],
   "source": [
    "# A long free Text\n",
    "# https://www.projekt-gutenberg.org/kafka/verwandl/verwandl.html\n",
    "with open(\"verwandlung.txt\", \"r\", encoding=\"utf-8\") as file:\n",
    "    contents = file.read()\n",
    "    \n",
    "contents = \"\\n\".join(contents.split(\"\\n\")[59:1952])\n",
    "\n",
    "unique_chars = set(contents)\n",
    "int_to_char = {}\n",
    "char_to_int = {}\n",
    "\n",
    "for i, j in enumerate(unique_chars):\n",
    "    int_to_char[i] = j\n",
    "    char_to_int[j] = i"
   ]
  },
  {
   "cell_type": "code",
   "execution_count": 4,
   "metadata": {},
   "outputs": [
    {
     "data": {
      "text/plain": [
       "{'\\n',\n",
       " ' ',\n",
       " '!',\n",
       " \"'\",\n",
       " ',',\n",
       " '-',\n",
       " '.',\n",
       " ':',\n",
       " ';',\n",
       " '?',\n",
       " 'A',\n",
       " 'B',\n",
       " 'C',\n",
       " 'D',\n",
       " 'E',\n",
       " 'F',\n",
       " 'G',\n",
       " 'H',\n",
       " 'I',\n",
       " 'J',\n",
       " 'K',\n",
       " 'L',\n",
       " 'M',\n",
       " 'N',\n",
       " 'O',\n",
       " 'P',\n",
       " 'Q',\n",
       " 'R',\n",
       " 'S',\n",
       " 'T',\n",
       " 'U',\n",
       " 'V',\n",
       " 'W',\n",
       " 'Z',\n",
       " 'a',\n",
       " 'b',\n",
       " 'c',\n",
       " 'd',\n",
       " 'e',\n",
       " 'f',\n",
       " 'g',\n",
       " 'h',\n",
       " 'i',\n",
       " 'j',\n",
       " 'k',\n",
       " 'l',\n",
       " 'm',\n",
       " 'n',\n",
       " 'o',\n",
       " 'p',\n",
       " 'q',\n",
       " 'r',\n",
       " 's',\n",
       " 't',\n",
       " 'u',\n",
       " 'v',\n",
       " 'w',\n",
       " 'x',\n",
       " 'z',\n",
       " '«',\n",
       " '»',\n",
       " 'Ä',\n",
       " 'Ö',\n",
       " 'Ü',\n",
       " 'ß',\n",
       " 'ä',\n",
       " 'ö',\n",
       " 'ü'}"
      ]
     },
     "execution_count": 4,
     "metadata": {},
     "output_type": "execute_result"
    }
   ],
   "source": [
    "unique_chars"
   ]
  },
  {
   "cell_type": "code",
   "execution_count": 5,
   "metadata": {},
   "outputs": [],
   "source": [
    "length = 40\n",
    "\n",
    "X = []\n",
    "y = []\n",
    "\n",
    "for i in range(0, len(contents) - length):\n",
    "    line = contents[i:i+length]\n",
    "    X.append([char_to_int[l] for l in line])\n",
    "    \n",
    "    letter = contents[i+length]\n",
    "    y.append(char_to_int[letter])"
   ]
  },
  {
   "cell_type": "code",
   "execution_count": 6,
   "metadata": {},
   "outputs": [],
   "source": [
    "# 0 = [1, 0, 0, 0, 0, 0, ....]\n",
    "# 1 = [0, 1, 0, 0, 0, 0, ...]\n",
    "\n",
    "from keras.utils import to_categorical\n",
    "\n",
    "X = to_categorical(X, num_classes=len(unique_chars))\n",
    "y = to_categorical(y, num_classes=len(unique_chars))"
   ]
  },
  {
   "cell_type": "code",
   "execution_count": 7,
   "metadata": {},
   "outputs": [
    {
     "data": {
      "text/plain": [
       "(121090, 40, 68)"
      ]
     },
     "execution_count": 7,
     "metadata": {},
     "output_type": "execute_result"
    }
   ],
   "source": [
    "X.shape"
   ]
  },
  {
   "cell_type": "code",
   "execution_count": 8,
   "metadata": {},
   "outputs": [],
   "source": [
    "from keras.models import Sequential\n",
    "from keras.layers import Dense, LSTM\n",
    "\n",
    "model = Sequential()\n",
    "model.add(LSTM(128, input_shape=(40, 68)))\n",
    "model.add(Dense(68, activation=\"softmax\"))\n",
    "\n",
    "model.compile(optimizer=\"adam\", loss=\"categorical_crossentropy\")"
   ]
  },
  {
   "cell_type": "code",
   "execution_count": 9,
   "metadata": {},
   "outputs": [
    {
     "name": "stdout",
     "output_type": "stream",
     "text": [
      "Model: \"sequential\"\n",
      "_________________________________________________________________\n",
      " Layer (type)                Output Shape              Param #   \n",
      "=================================================================\n",
      " lstm (LSTM)                 (None, 128)               100864    \n",
      "                                                                 \n",
      " dense (Dense)               (None, 68)                8772      \n",
      "                                                                 \n",
      "=================================================================\n",
      "Total params: 109,636\n",
      "Trainable params: 109,636\n",
      "Non-trainable params: 0\n",
      "_________________________________________________________________\n"
     ]
    }
   ],
   "source": [
    "model.summary()"
   ]
  },
  {
   "cell_type": "code",
   "execution_count": 10,
   "metadata": {},
   "outputs": [],
   "source": [
    "from keras.callbacks import ModelCheckpoint\n",
    "\n",
    "save_model = ModelCheckpoint(\"weights.{epoch:02d}-{loss:.2f}.hdf5\")"
   ]
  },
  {
   "cell_type": "code",
   "execution_count": 11,
   "metadata": {},
   "outputs": [
    {
     "name": "stdout",
     "output_type": "stream",
     "text": [
      "Epoch 1/10\n",
      "3785/3785 [==============================] - 42s 10ms/step - loss: 2.3495\n",
      "Epoch 2/10\n",
      "3785/3785 [==============================] - 42s 11ms/step - loss: 1.9216\n",
      "Epoch 3/10\n",
      "3785/3785 [==============================] - 43s 11ms/step - loss: 1.7816\n",
      "Epoch 4/10\n",
      "3785/3785 [==============================] - 45s 12ms/step - loss: 1.6888\n",
      "Epoch 5/10\n",
      "3785/3785 [==============================] - 41s 11ms/step - loss: 1.6183\n",
      "Epoch 6/10\n",
      "3785/3785 [==============================] - 47s 13ms/step - loss: 1.5610\n",
      "Epoch 7/10\n",
      "3785/3785 [==============================] - 47s 12ms/step - loss: 1.5148\n",
      "Epoch 8/10\n",
      "3785/3785 [==============================] - 42s 11ms/step - loss: 1.4758\n",
      "Epoch 9/10\n",
      "3785/3785 [==============================] - 40s 11ms/step - loss: 1.4416\n",
      "Epoch 10/10\n",
      "3785/3785 [==============================] - 43s 11ms/step - loss: 1.4126\n"
     ]
    },
    {
     "data": {
      "text/plain": [
       "<keras.callbacks.History at 0x2b54ce08eb0>"
      ]
     },
     "execution_count": 11,
     "metadata": {},
     "output_type": "execute_result"
    }
   ],
   "source": [
    "model.fit(X, y, batch_size=32, epochs=10, callbacks=[save_model])"
   ]
  },
  {
   "cell_type": "markdown",
   "metadata": {},
   "source": [
    "# Second part generating text"
   ]
  },
  {
   "cell_type": "code",
   "execution_count": 14,
   "metadata": {},
   "outputs": [],
   "source": [
    "with open(\"verwandlung.txt\", \"r\", encoding=\"utf-8\") as file:\n",
    "    contents = file.read()\n",
    "    \n",
    "contents = \"\\n\".join(contents.split(\"\\n\")[59:1952])"
   ]
  },
  {
   "cell_type": "code",
   "execution_count": 16,
   "metadata": {},
   "outputs": [
    {
     "data": {
      "text/plain": [
       "'ungeheueren Ungeziefer verwandelt. Er la'"
      ]
     },
     "execution_count": 16,
     "metadata": {},
     "output_type": "execute_result"
    }
   ],
   "source": [
    "line = contents[100:140]\n",
    "line"
   ]
  },
  {
   "cell_type": "code",
   "execution_count": 17,
   "metadata": {},
   "outputs": [
    {
     "name": "stdout",
     "output_type": "stream",
     "text": [
      "nge\n",
      "olss mit, wo was gewührt und\n",
      "über dieses Holgen? Lach zu schöben, auf der Zimmermackte diese Kre"
     ]
    }
   ],
   "source": [
    "import numpy as np\n",
    "from keras.utils import to_categorical\n",
    "\n",
    "seed = [char_to_int[l] for l in line]\n",
    "seed = to_categorical(seed, num_classes=len(char_to_int))\n",
    "\n",
    "for i in range(0, 100):\n",
    "    prediction = model.predict(seed.reshape(1, 40, 68), verbose=0)\n",
    "    prediction = prediction[0]\n",
    "        \n",
    "    pos = np.random.choice(68, 1, p=prediction)[0]\n",
    "    print(int_to_char[pos], end=\"\")\n",
    "    \n",
    "    new_char = to_categorical([pos], num_classes=len(char_to_int))\n",
    "        \n",
    "    seed = seed[1:,:]\n",
    "    seed = np.append(seed, new_char, axis=0)"
   ]
  }
 ],
 "metadata": {
  "kernelspec": {
   "display_name": "Python 3 (ipykernel)",
   "language": "python",
   "name": "python3"
  },
  "language_info": {
   "codemirror_mode": {
    "name": "ipython",
    "version": 3
   },
   "file_extension": ".py",
   "mimetype": "text/x-python",
   "name": "python",
   "nbconvert_exporter": "python",
   "pygments_lexer": "ipython3",
   "version": "3.10.9"
  }
 },
 "nbformat": 4,
 "nbformat_minor": 2
}
