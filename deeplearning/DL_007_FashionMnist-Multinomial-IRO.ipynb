{
 "cells": [
  {
   "cell_type": "markdown",
   "id": "6b044e3d",
   "metadata": {},
   "source": [
    "# Fashion MNIST Multinomial\n",
    "\n",
    "Get the necessary files for the next session from https://www.kaggle.com/datasets/zalando-research/fashionmnist\n"
   ]
  },
  {
   "cell_type": "markdown",
   "id": "0f965a17",
   "metadata": {},
   "source": [
    "## Preparing the data"
   ]
  },
  {
   "cell_type": "code",
   "execution_count": 1,
   "id": "e9930901",
   "metadata": {},
   "outputs": [
    {
     "name": "stdout",
     "output_type": "stream",
     "text": [
      "2.10.0\n"
     ]
    }
   ],
   "source": [
    "#!pip install scikit-learn\n",
    "#!pip install tensorflow==2.10\n",
    "import pandas as pd\n",
    "import numpy as np\n",
    "import tensorflow as tf \n",
    "from tensorflow.keras.models import Sequential\n",
    "from tensorflow.keras.layers import Dense\n",
    "print(tf.__version__)"
   ]
  },
  {
   "cell_type": "code",
   "execution_count": 2,
   "id": "ba0bc9ac",
   "metadata": {},
   "outputs": [],
   "source": [
    "#read data with pandas\n",
    "dataTrain = pd.read_csv('data/fashion-mnist_train.csv')\n",
    "dataTest = pd.read_csv('data/fashion-mnist_test.csv')"
   ]
  },
  {
   "cell_type": "code",
   "execution_count": 3,
   "id": "7c7f8768",
   "metadata": {},
   "outputs": [],
   "source": [
    "#convert to numpy and initialize variables for training\n",
    "X_train, y_train = dataTrain.iloc[:, 1:].to_numpy(), dataTrain.iloc[:, 0].to_numpy()\n",
    "X_test, y_test = dataTest.iloc[:, 1:].to_numpy(), dataTest.iloc[:, 0].to_numpy()\n",
    "\n",
    "#Define Classnames\n",
    "class_names = ['T-shirt/top', 'Trouser', 'Pullover', 'Dress', 'Coat',\n",
    "               'Sandal', 'Shirt', 'Sneaker', 'Bag', 'Ankle boot']"
   ]
  },
  {
   "cell_type": "code",
   "execution_count": 4,
   "id": "40344825",
   "metadata": {},
   "outputs": [
    {
     "name": "stdout",
     "output_type": "stream",
     "text": [
      "[PhysicalDevice(name='/physical_device:GPU:0', device_type='GPU')]\n"
     ]
    }
   ],
   "source": [
    "# for tensorflow 2.10 we need Cuda 11.2 (tensorflow 2.11 seems not to work in )\n",
    "# use the following code to hide the GPU\n",
    "#import os\n",
    "#os.environ['CUDA_VISIBLE_DEVICES'] = '-1'\n",
    "print(tf.config.list_physical_devices('GPU'))"
   ]
  },
  {
   "cell_type": "markdown",
   "id": "a22ff649",
   "metadata": {},
   "source": [
    "# Create the Network"
   ]
  },
  {
   "cell_type": "code",
   "execution_count": 15,
   "id": "06ca2966",
   "metadata": {},
   "outputs": [],
   "source": [
    "model = Sequential()\n",
    "\n",
    "model.add(Dense(100, activation=\"sigmoid\", input_shape=(784,)))\n",
    "# add suitable last layer here with number of neurons and proper activation function\n",
    "model.add(Dense(10, activation=\"softmax\"))\n",
    "# we have to change from binary to categorial here because we have multiple classes for prediction\n",
    "model.compile(optimizer=\"sgd\", loss=\"categorical_crossentropy\", metrics=[\"accuracy\"]) \n"
   ]
  },
  {
   "cell_type": "code",
   "execution_count": 16,
   "id": "4bb23186",
   "metadata": {},
   "outputs": [
    {
     "name": "stdout",
     "output_type": "stream",
     "text": [
      "<function softmax at 0x000001BE33CA15A0>\n",
      "Model: \"sequential_1\"\n",
      "_________________________________________________________________\n",
      " Layer (type)                Output Shape              Param #   \n",
      "=================================================================\n",
      " dense_2 (Dense)             (None, 100)               78500     \n",
      "                                                                 \n",
      " dense_3 (Dense)             (None, 10)                1010      \n",
      "                                                                 \n",
      "=================================================================\n",
      "Total params: 79,510\n",
      "Trainable params: 79,510\n",
      "Non-trainable params: 0\n",
      "_________________________________________________________________\n"
     ]
    }
   ],
   "source": [
    "# show the that string values given here correspon to classes e.g tf.nn.softmax or \n",
    "print(model.layers[1].activation)\n",
    "model.summary()"
   ]
  },
  {
   "cell_type": "markdown",
   "id": "671160fd",
   "metadata": {},
   "source": [
    "# Prepare to train"
   ]
  },
  {
   "cell_type": "code",
   "execution_count": 17,
   "id": "9705c557",
   "metadata": {},
   "outputs": [
    {
     "name": "stdout",
     "output_type": "stream",
     "text": [
      "tf.Tensor(\n",
      "[[0. 0. 1. ... 0. 0. 0.]\n",
      " [0. 0. 0. ... 0. 0. 1.]\n",
      " [0. 0. 0. ... 0. 0. 0.]\n",
      " ...\n",
      " [0. 0. 0. ... 0. 1. 0.]\n",
      " [0. 0. 0. ... 0. 1. 0.]\n",
      " [0. 0. 0. ... 1. 0. 0.]], shape=(60000, 10), dtype=float32)\n"
     ]
    }
   ],
   "source": [
    "y_one_hot = tf.one_hot(y_train,len(class_names))\n",
    "print(y_one_hot)"
   ]
  },
  {
   "cell_type": "code",
   "execution_count": 11,
   "id": "1968d4f7",
   "metadata": {},
   "outputs": [],
   "source": [
    "# prepare ground truth as one-hot encoded values\n",
    "y_one_hot = tf.one_hot(y_train,len(class_names))\n",
    "y_one_hot_test = tf.one_hot(y_test,len(class_names))"
   ]
  },
  {
   "cell_type": "code",
   "execution_count": 12,
   "id": "d25625ef",
   "metadata": {},
   "outputs": [
    {
     "name": "stdout",
     "output_type": "stream",
     "text": [
      "tf.Tensor(\n",
      "[[0. 0. 1. ... 0. 0. 0.]\n",
      " [0. 0. 0. ... 0. 0. 1.]\n",
      " [0. 0. 0. ... 0. 0. 0.]\n",
      " ...\n",
      " [0. 0. 0. ... 0. 1. 0.]\n",
      " [0. 0. 0. ... 0. 1. 0.]\n",
      " [0. 0. 0. ... 1. 0. 0.]], shape=(60000, 10), dtype=float32)\n"
     ]
    },
    {
     "data": {
      "text/plain": [
       "array([[0., 0., 1., ..., 0., 0., 0.],\n",
       "       [0., 0., 0., ..., 0., 0., 1.],\n",
       "       [0., 0., 0., ..., 0., 0., 0.],\n",
       "       ...,\n",
       "       [0., 0., 0., ..., 0., 1., 0.],\n",
       "       [0., 0., 0., ..., 0., 1., 0.],\n",
       "       [0., 0., 0., ..., 1., 0., 0.]], dtype=float32)"
      ]
     },
     "execution_count": 12,
     "metadata": {},
     "output_type": "execute_result"
    }
   ],
   "source": [
    "#alternative \n",
    "print(tf.one_hot(y_train,len(class_names)))\n",
    "tf.keras.utils.to_categorical(y_train, num_classes=len(class_names))"
   ]
  },
  {
   "cell_type": "code",
   "execution_count": 18,
   "id": "c1b726e4",
   "metadata": {},
   "outputs": [
    {
     "name": "stdout",
     "output_type": "stream",
     "text": [
      "Epoch 1/10\n",
      "600/600 [==============================] - 2s 4ms/step - loss: 1.0553 - accuracy: 0.6865\n",
      "Epoch 2/10\n",
      "600/600 [==============================] - 3s 5ms/step - loss: 0.7103 - accuracy: 0.7698\n",
      "Epoch 3/10\n",
      "600/600 [==============================] - 3s 6ms/step - loss: 0.6337 - accuracy: 0.7885\n",
      "Epoch 4/10\n",
      "600/600 [==============================] - 3s 6ms/step - loss: 0.5957 - accuracy: 0.7998\n",
      "Epoch 5/10\n",
      "600/600 [==============================] - 3s 6ms/step - loss: 0.5789 - accuracy: 0.8046\n",
      "Epoch 6/10\n",
      "600/600 [==============================] - 3s 6ms/step - loss: 0.5523 - accuracy: 0.8107\n",
      "Epoch 7/10\n",
      "600/600 [==============================] - 3s 6ms/step - loss: 0.5371 - accuracy: 0.8159\n",
      "Epoch 8/10\n",
      "600/600 [==============================] - 3s 6ms/step - loss: 0.5314 - accuracy: 0.8162\n",
      "Epoch 9/10\n",
      "600/600 [==============================] - 3s 6ms/step - loss: 0.5181 - accuracy: 0.8195\n",
      "Epoch 10/10\n",
      "600/600 [==============================] - 3s 6ms/step - loss: 0.5165 - accuracy: 0.8196\n"
     ]
    },
    {
     "data": {
      "text/plain": [
       "<keras.callbacks.History at 0x1bef9a3b8b0>"
      ]
     },
     "execution_count": 18,
     "metadata": {},
     "output_type": "execute_result"
    }
   ],
   "source": [
    "model.fit(\n",
    "    X_train,\n",
    "    y_one_hot,\n",
    "    epochs=10,\n",
    "    batch_size=100)"
   ]
  },
  {
   "cell_type": "markdown",
   "id": "bf6ef359",
   "metadata": {},
   "source": [
    "# Evaluate and use"
   ]
  },
  {
   "cell_type": "code",
   "execution_count": 22,
   "id": "af7e88ad",
   "metadata": {},
   "outputs": [
    {
     "name": "stdout",
     "output_type": "stream",
     "text": [
      "313/313 [==============================] - 1s 4ms/step - loss: 0.5150 - accuracy: 0.8219\n"
     ]
    },
    {
     "data": {
      "text/plain": [
       "[0.5150290131568909, 0.8219000101089478]"
      ]
     },
     "execution_count": 22,
     "metadata": {},
     "output_type": "execute_result"
    }
   ],
   "source": [
    "model.evaluate(X_test, y_one_hot_test)"
   ]
  },
  {
   "cell_type": "code",
   "execution_count": 25,
   "id": "b1250ab9",
   "metadata": {},
   "outputs": [
    {
     "name": "stdout",
     "output_type": "stream",
     "text": [
      "313/313 [==============================] - 1s 3ms/step\n",
      "Shape: (10000, 10)\n"
     ]
    },
    {
     "data": {
      "text/plain": [
       "array([[65.,  0.,  1.,  3.,  1.,  0., 31.,  0.,  0.,  0.],\n",
       "       [ 0., 99.,  0.,  1.,  0.,  0.,  0.,  0.,  0.,  0.]], dtype=float32)"
      ]
     },
     "execution_count": 25,
     "metadata": {},
     "output_type": "execute_result"
    }
   ],
   "source": [
    "y_pred = model.predict(X_test)\n",
    "print(f\"Shape: {y_pred.shape}\")\n",
    "y_pred\n",
    "\n",
    "np.round(y_pred[0:2,:]*100)"
   ]
  },
  {
   "cell_type": "markdown",
   "id": "a9fcaa90",
   "metadata": {},
   "source": [
    "# Convert probalities to class "
   ]
  },
  {
   "cell_type": "code",
   "execution_count": 30,
   "id": "13ea1036",
   "metadata": {},
   "outputs": [
    {
     "name": "stdout",
     "output_type": "stream",
     "text": [
      "[ 0. 99.  0.  1.  0.  0.  0.  0.  0.  0.]\n",
      " The index of the largest element is 1\n",
      " The value of the largest element is 0.9899780750274658\n"
     ]
    }
   ],
   "source": [
    "# introducing argmax\n",
    "pred = y_pred[1]\n",
    "print(np.round(pred*100))\n",
    "index1 = np.argmax(pred) \n",
    "print(f\" The index of the largest element is {index1}\")\n",
    "print(f\" The value of the largest element is {pred[index1]}\")\n"
   ]
  },
  {
   "cell_type": "code",
   "execution_count": 34,
   "id": "861c3e4f",
   "metadata": {},
   "outputs": [
    {
     "data": {
      "text/plain": [
       "<tf.Tensor: shape=(10000,), dtype=int64, numpy=array([0, 1, 2, ..., 8, 8, 2], dtype=int64)>"
      ]
     },
     "execution_count": 34,
     "metadata": {},
     "output_type": "execute_result"
    }
   ],
   "source": [
    "# argmax for the whole array\n",
    "index = tf.argmax(y_pred, axis=1) # alternativ auch np.argmax()\n",
    "index.shape\n",
    "index"
   ]
  },
  {
   "cell_type": "code",
   "execution_count": 35,
   "id": "0220602b",
   "metadata": {},
   "outputs": [
    {
     "data": {
      "text/plain": [
       "0.8219"
      ]
     },
     "execution_count": 35,
     "metadata": {},
     "output_type": "execute_result"
    }
   ],
   "source": [
    "from sklearn.metrics import accuracy_score   \n",
    "score = accuracy_score(y_test, index)  \n",
    "score"
   ]
  },
  {
   "cell_type": "markdown",
   "id": "eb62d3da",
   "metadata": {},
   "source": [
    "# Why are we not as good as before ?\n",
    "previously we had 95% accurracy\n",
    "\n",
    "10% TShirts 90% Others"
   ]
  },
  {
   "cell_type": "code",
   "execution_count": 36,
   "id": "f75ab297",
   "metadata": {},
   "outputs": [
    {
     "name": "stdout",
     "output_type": "stream",
     "text": [
      "Precision: 0.8229583462381428\n",
      "Recall: 0.8219\n"
     ]
    }
   ],
   "source": [
    "from sklearn.metrics import precision_score\n",
    "from sklearn.metrics import recall_score\n",
    "print(f\"Precision: {precision_score(y_test, index, average='weighted')}\")  \n",
    "print(f\"Recall: {recall_score(y_test, index, average='weighted')}\")  \n"
   ]
  },
  {
   "cell_type": "markdown",
   "id": "10f0b0a4",
   "metadata": {},
   "source": [
    "# What is beeing mixed up ?"
   ]
  },
  {
   "cell_type": "markdown",
   "id": "b86f2711",
   "metadata": {},
   "source": [
    "## Creating a confusion matrix for better insight "
   ]
  },
  {
   "cell_type": "code",
   "execution_count": 37,
   "id": "4374e6bc",
   "metadata": {},
   "outputs": [
    {
     "data": {
      "text/html": [
       "<div>\n",
       "<style scoped>\n",
       "    .dataframe tbody tr th:only-of-type {\n",
       "        vertical-align: middle;\n",
       "    }\n",
       "\n",
       "    .dataframe tbody tr th {\n",
       "        vertical-align: top;\n",
       "    }\n",
       "\n",
       "    .dataframe thead th {\n",
       "        text-align: right;\n",
       "    }\n",
       "</style>\n",
       "<table border=\"1\" class=\"dataframe\">\n",
       "  <thead>\n",
       "    <tr style=\"text-align: right;\">\n",
       "      <th>pred</th>\n",
       "      <th>0</th>\n",
       "      <th>1</th>\n",
       "      <th>2</th>\n",
       "      <th>3</th>\n",
       "      <th>4</th>\n",
       "      <th>5</th>\n",
       "      <th>6</th>\n",
       "      <th>7</th>\n",
       "      <th>8</th>\n",
       "      <th>9</th>\n",
       "    </tr>\n",
       "    <tr>\n",
       "      <th>actual</th>\n",
       "      <th></th>\n",
       "      <th></th>\n",
       "      <th></th>\n",
       "      <th></th>\n",
       "      <th></th>\n",
       "      <th></th>\n",
       "      <th></th>\n",
       "      <th></th>\n",
       "      <th></th>\n",
       "      <th></th>\n",
       "    </tr>\n",
       "  </thead>\n",
       "  <tbody>\n",
       "    <tr>\n",
       "      <th>0</th>\n",
       "      <td>802</td>\n",
       "      <td>7</td>\n",
       "      <td>12</td>\n",
       "      <td>70</td>\n",
       "      <td>8</td>\n",
       "      <td>1</td>\n",
       "      <td>85</td>\n",
       "      <td>0</td>\n",
       "      <td>15</td>\n",
       "      <td>0</td>\n",
       "    </tr>\n",
       "    <tr>\n",
       "      <th>1</th>\n",
       "      <td>6</td>\n",
       "      <td>941</td>\n",
       "      <td>21</td>\n",
       "      <td>22</td>\n",
       "      <td>2</td>\n",
       "      <td>1</td>\n",
       "      <td>7</td>\n",
       "      <td>0</td>\n",
       "      <td>0</td>\n",
       "      <td>0</td>\n",
       "    </tr>\n",
       "    <tr>\n",
       "      <th>2</th>\n",
       "      <td>20</td>\n",
       "      <td>1</td>\n",
       "      <td>678</td>\n",
       "      <td>5</td>\n",
       "      <td>200</td>\n",
       "      <td>0</td>\n",
       "      <td>84</td>\n",
       "      <td>0</td>\n",
       "      <td>12</td>\n",
       "      <td>0</td>\n",
       "    </tr>\n",
       "    <tr>\n",
       "      <th>3</th>\n",
       "      <td>31</td>\n",
       "      <td>19</td>\n",
       "      <td>9</td>\n",
       "      <td>858</td>\n",
       "      <td>50</td>\n",
       "      <td>0</td>\n",
       "      <td>29</td>\n",
       "      <td>0</td>\n",
       "      <td>4</td>\n",
       "      <td>0</td>\n",
       "    </tr>\n",
       "    <tr>\n",
       "      <th>4</th>\n",
       "      <td>1</td>\n",
       "      <td>1</td>\n",
       "      <td>56</td>\n",
       "      <td>23</td>\n",
       "      <td>800</td>\n",
       "      <td>0</td>\n",
       "      <td>117</td>\n",
       "      <td>0</td>\n",
       "      <td>2</td>\n",
       "      <td>0</td>\n",
       "    </tr>\n",
       "    <tr>\n",
       "      <th>5</th>\n",
       "      <td>1</td>\n",
       "      <td>1</td>\n",
       "      <td>0</td>\n",
       "      <td>2</td>\n",
       "      <td>0</td>\n",
       "      <td>876</td>\n",
       "      <td>0</td>\n",
       "      <td>52</td>\n",
       "      <td>14</td>\n",
       "      <td>54</td>\n",
       "    </tr>\n",
       "    <tr>\n",
       "      <th>6</th>\n",
       "      <td>178</td>\n",
       "      <td>4</td>\n",
       "      <td>92</td>\n",
       "      <td>39</td>\n",
       "      <td>154</td>\n",
       "      <td>0</td>\n",
       "      <td>514</td>\n",
       "      <td>0</td>\n",
       "      <td>18</td>\n",
       "      <td>1</td>\n",
       "    </tr>\n",
       "    <tr>\n",
       "      <th>7</th>\n",
       "      <td>0</td>\n",
       "      <td>0</td>\n",
       "      <td>0</td>\n",
       "      <td>0</td>\n",
       "      <td>0</td>\n",
       "      <td>29</td>\n",
       "      <td>0</td>\n",
       "      <td>875</td>\n",
       "      <td>3</td>\n",
       "      <td>93</td>\n",
       "    </tr>\n",
       "    <tr>\n",
       "      <th>8</th>\n",
       "      <td>3</td>\n",
       "      <td>0</td>\n",
       "      <td>13</td>\n",
       "      <td>8</td>\n",
       "      <td>10</td>\n",
       "      <td>3</td>\n",
       "      <td>14</td>\n",
       "      <td>5</td>\n",
       "      <td>943</td>\n",
       "      <td>1</td>\n",
       "    </tr>\n",
       "    <tr>\n",
       "      <th>9</th>\n",
       "      <td>0</td>\n",
       "      <td>0</td>\n",
       "      <td>0</td>\n",
       "      <td>0</td>\n",
       "      <td>0</td>\n",
       "      <td>13</td>\n",
       "      <td>0</td>\n",
       "      <td>53</td>\n",
       "      <td>2</td>\n",
       "      <td>932</td>\n",
       "    </tr>\n",
       "  </tbody>\n",
       "</table>\n",
       "</div>"
      ],
      "text/plain": [
       "pred      0    1    2    3    4    5    6    7    8    9\n",
       "actual                                                  \n",
       "0       802    7   12   70    8    1   85    0   15    0\n",
       "1         6  941   21   22    2    1    7    0    0    0\n",
       "2        20    1  678    5  200    0   84    0   12    0\n",
       "3        31   19    9  858   50    0   29    0    4    0\n",
       "4         1    1   56   23  800    0  117    0    2    0\n",
       "5         1    1    0    2    0  876    0   52   14   54\n",
       "6       178    4   92   39  154    0  514    0   18    1\n",
       "7         0    0    0    0    0   29    0  875    3   93\n",
       "8         3    0   13    8   10    3   14    5  943    1\n",
       "9         0    0    0    0    0   13    0   53    2  932"
      ]
     },
     "execution_count": 37,
     "metadata": {},
     "output_type": "execute_result"
    }
   ],
   "source": [
    "import pandas as pd\n",
    "\n",
    "ytrue = pd.Series(y_test, name = 'actual')\n",
    "ypred = pd.Series(index, name = 'pred')\n",
    "pd.crosstab(ytrue, ypred)"
   ]
  },
  {
   "cell_type": "markdown",
   "id": "09747196",
   "metadata": {},
   "source": [
    "The way we learned it last year:"
   ]
  },
  {
   "cell_type": "code",
   "execution_count": 38,
   "id": "3bd2b9d0",
   "metadata": {},
   "outputs": [
    {
     "data": {
      "text/plain": [
       "<sklearn.metrics._plot.confusion_matrix.ConfusionMatrixDisplay at 0x1bf10267d30>"
      ]
     },
     "execution_count": 38,
     "metadata": {},
     "output_type": "execute_result"
    },
    {
     "data": {
      "image/png": "[encoded data removed]",
      "text/plain": [
       "<Figure size 640x480 with 2 Axes>"
      ]
     },
     "metadata": {},
     "output_type": "display_data"
    }
   ],
   "source": [
    "from sklearn.metrics import confusion_matrix, ConfusionMatrixDisplay\n",
    "cm= confusion_matrix(y_test, index)\n",
    "disp = ConfusionMatrixDisplay(confusion_matrix=cm, display_labels=class_names)\n",
    "disp.plot(xticks_rotation='vertical')\n"
   ]
  },
  {
   "cell_type": "markdown",
   "id": "39629730",
   "metadata": {},
   "source": [
    "# Exercises\n",
    "\n",
    "* Try different activation functions in the first layer\n",
    "\n",
    "* Try what happens if we use sigmoid for the last layer ? Does categorical-crossentropy work together with sigmoid as well ?\n",
    "\n",
    "* Try what happens if we have a relu in the last layer + categorical_hinge ?\n",
    "\n"
   ]
  }
 ],
 "metadata": {
  "kernelspec": {
   "display_name": "Python 3 (ipykernel)",
   "language": "python",
   "name": "python3"
  },
  "language_info": {
   "codemirror_mode": {
    "name": "ipython",
    "version": 3
   },
   "file_extension": ".py",
   "mimetype": "text/x-python",
   "name": "python",
   "nbconvert_exporter": "python",
   "pygments_lexer": "ipython3",
   "version": "3.10.9"
  }
 },
 "nbformat": 4,
 "nbformat_minor": 5
}
