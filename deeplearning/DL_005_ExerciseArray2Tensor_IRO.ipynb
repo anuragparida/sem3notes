{
 "cells": [
  {
   "cell_type": "markdown",
   "id": "cd1a338e",
   "metadata": {},
   "source": [
    "# Exercise 1: Convert NP-Arrays to Tensors\n",
    "\n",
    "This was a notebook of last years ML class. There we used numpy, but you should easily be able to convert the code to Tensorflow."
   ]
  },
  {
   "cell_type": "markdown",
   "id": "d2971d94",
   "metadata": {},
   "source": [
    "<b>One-dimensional Array</b>"
   ]
  },
  {
   "cell_type": "code",
   "execution_count": 3,
   "id": "c9c2e5a3",
   "metadata": {},
   "outputs": [
    {
     "name": "stdout",
     "output_type": "stream",
     "text": [
      "Type: <class 'tensorflow.python.framework.ops.EagerTensor'>\n",
      "Shape: (3,)\n",
      "tf.Tensor([1 2 3], shape=(3,), dtype=int32)\n",
      "[1 2 3]\n"
     ]
    }
   ],
   "source": [
    "import tensorflow as tf\n",
    "a = tf.constant([1, 2, 3])              # Create a rank 1 array\n",
    "print('Type:', type(a))              # Prints \"<class 'numpy.ndarray'>\"\n",
    "print('Shape:', a.shape)             # Prints \"(3,)\"\n",
    "\n",
    "# Task:\n",
    "# Now print the contents in the form \"Contents:[1 2 3]\"\n",
    "print(a)\n",
    "print(\"[{} {} {}]\".format(a[0],a[1],a[2]))\n"
   ]
  },
  {
   "cell_type": "code",
   "execution_count": 4,
   "id": "619812fb",
   "metadata": {},
   "outputs": [
    {
     "name": "stdout",
     "output_type": "stream",
     "text": [
      "After Modification [5 2 3]\n"
     ]
    }
   ],
   "source": [
    "# Dooing some modification\n",
    "a= tf.Variable(a)\n",
    "a[0].assign(5)                             # Change an element of the array\n",
    "print('After Modification', a)       # Prints \"[5 2 3]\""
   ]
  },
  {
   "cell_type": "markdown",
   "id": "f99013be",
   "metadata": {},
   "source": [
    "<b>Two-dimensional Array</b>"
   ]
  },
  {
   "cell_type": "code",
   "execution_count": 5,
   "id": "141c7973",
   "metadata": {},
   "outputs": [
    {
     "name": "stdout",
     "output_type": "stream",
     "text": [
      "(2, 3)\n",
      "tf.Tensor(\n",
      "[[1 2 3]\n",
      " [4 5 6]], shape=(2, 3), dtype=int32)\n",
      "[[1, 2, 3], [4, 5, 6]]\n"
     ]
    }
   ],
   "source": [
    "import numpy as np\n",
    "b = np.array([[1,2,3],[4,5,6]])    # Create a rank 2 array\n",
    "b = tf.constant(b)\n",
    "print(b.shape)                     # Prints \"(2, 3)\"\n",
    "print(b)                           \n",
    "print([[1,2,3],[4,5,6]])"
   ]
  },
  {
   "cell_type": "markdown",
   "id": "2ee3f768",
   "metadata": {},
   "source": [
    "<b>Vector/Matrix Creation</b>"
   ]
  },
  {
   "cell_type": "code",
   "execution_count": 9,
   "id": "d23d8e6f",
   "metadata": {},
   "outputs": [
    {
     "name": "stdout",
     "output_type": "stream",
     "text": [
      "<tf.Variable 'Variable:0' shape=(10, 10) dtype=int64, numpy=\n",
      "array([[1, 1, 1, 1, 1, 1, 1, 1, 1, 1],\n",
      "       [1, 1, 1, 1, 1, 1, 1, 1, 1, 1],\n",
      "       [1, 1, 1, 1, 1, 1, 1, 1, 1, 1],\n",
      "       [1, 1, 1, 1, 1, 1, 1, 1, 1, 1],\n",
      "       [1, 1, 1, 1, 1, 1, 1, 1, 1, 1],\n",
      "       [1, 1, 1, 1, 1, 5, 1, 1, 1, 1],\n",
      "       [1, 1, 1, 1, 1, 1, 1, 1, 1, 1],\n",
      "       [1, 1, 1, 1, 1, 1, 1, 1, 1, 1],\n",
      "       [1, 1, 1, 1, 1, 1, 1, 1, 1, 1],\n",
      "       [1, 1, 1, 1, 1, 1, 1, 1, 1, 1]], dtype=int64)>\n",
      "tf.Tensor([0. 0. 0. 0. 0. 0. 0. 0. 0. 0.], shape=(10,), dtype=float32)\n"
     ]
    }
   ],
   "source": [
    "x = tf.Variable(tf.ones((10,10), dtype=tf.int64));\n",
    "x[5,5].assign(5)\n",
    "print(x)\n",
    "print(tf.zeros(10))\n",
    "\n",
    "\n",
    "# also multidimensional arrays possible"
   ]
  },
  {
   "cell_type": "code",
   "execution_count": 11,
   "id": "c20ce4c0",
   "metadata": {},
   "outputs": [
    {
     "data": {
      "text/plain": [
       "<tf.Tensor: shape=(7, 7), dtype=int64, numpy=\n",
       "array([[1, 0, 0, 0, 0, 0, 0],\n",
       "       [0, 1, 0, 0, 0, 0, 0],\n",
       "       [0, 0, 1, 0, 0, 0, 0],\n",
       "       [0, 0, 0, 1, 0, 0, 0],\n",
       "       [0, 0, 0, 0, 1, 0, 0],\n",
       "       [0, 0, 0, 0, 0, 1, 0],\n",
       "       [0, 0, 0, 0, 0, 0, 1]], dtype=int64)>"
      ]
     },
     "execution_count": 11,
     "metadata": {},
     "output_type": "execute_result"
    }
   ],
   "source": [
    "# create a diagonal matrix\n",
    "tf.eye(7,dtype = tf.int64)"
   ]
  },
  {
   "cell_type": "code",
   "execution_count": 13,
   "id": "58ab28d0",
   "metadata": {},
   "outputs": [
    {
     "name": "stdout",
     "output_type": "stream",
     "text": [
      "tf.Tensor([0 1 2 3 4 5], shape=(6,), dtype=int32)\n",
      "[0 1 2 3 4 5]\n"
     ]
    }
   ],
   "source": [
    "#for a in range(6):\n",
    "#  print(a)\n",
    "print(tf.range(6))\n"
   ]
  },
  {
   "cell_type": "code",
   "execution_count": 18,
   "id": "4e884950",
   "metadata": {},
   "outputs": [
    {
     "name": "stdout",
     "output_type": "stream",
     "text": [
      "tf.Tensor(\n",
      "[[1 2 3]\n",
      " [4 5 6]], shape=(2, 3), dtype=int32)\n"
     ]
    }
   ],
   "source": [
    "d = tf.reshape(tf.Variable((tf.range(6)+1)), (2,3))\n",
    "print(d)"
   ]
  },
  {
   "cell_type": "markdown",
   "id": "a93a4434",
   "metadata": {},
   "source": [
    "<b>Elementwise Addition / Equals</b>"
   ]
  },
  {
   "cell_type": "code",
   "execution_count": 20,
   "id": "d090f49d",
   "metadata": {},
   "outputs": [
    {
     "data": {
      "text/plain": [
       "<tf.Tensor: shape=(3,), dtype=int32, numpy=array([11, 22, 33])>"
      ]
     },
     "execution_count": 20,
     "metadata": {},
     "output_type": "execute_result"
    }
   ],
   "source": [
    "tf.constant([1, 2, 3])+tf.constant([10, 20, 30])"
   ]
  },
  {
   "cell_type": "code",
   "execution_count": 22,
   "id": "ef2c4471",
   "metadata": {},
   "outputs": [
    {
     "data": {
      "text/plain": [
       "<tf.Tensor: shape=(3,), dtype=int32, numpy=array([11, 12, 13])>"
      ]
     },
     "execution_count": 22,
     "metadata": {},
     "output_type": "execute_result"
    }
   ],
   "source": [
    "tf.constant([1, 2, 3])+10"
   ]
  },
  {
   "cell_type": "code",
   "execution_count": 23,
   "id": "74a70d95",
   "metadata": {},
   "outputs": [
    {
     "data": {
      "text/plain": [
       "<tf.Tensor: shape=(2, 2), dtype=bool, numpy=\n",
       "array([[ True, False],\n",
       "       [False, False]])>"
      ]
     },
     "execution_count": 23,
     "metadata": {},
     "output_type": "execute_result"
    }
   ],
   "source": [
    "tf.reshape(tf.constant([1, 2, 3,4]),(2,2))==np.ones(2)"
   ]
  },
  {
   "cell_type": "code",
   "execution_count": 24,
   "id": "ccc33fc8",
   "metadata": {},
   "outputs": [
    {
     "data": {
      "text/plain": [
       "<tf.Tensor: shape=(3,), dtype=bool, numpy=array([False, False,  True])>"
      ]
     },
     "execution_count": 24,
     "metadata": {},
     "output_type": "execute_result"
    }
   ],
   "source": [
    "tf.constant([1, 2, 3])==3"
   ]
  },
  {
   "cell_type": "markdown",
   "id": "6c4e13c7",
   "metadata": {},
   "source": [
    "<b> Hamarad Product - Elementwise Multiplication</b>"
   ]
  },
  {
   "cell_type": "markdown",
   "id": "aa02649a",
   "metadata": {},
   "source": [
    "$$\n",
    "\\begin{bmatrix}\n",
    "  1 & 2 & 3\\\\\n",
    "  4 & 5 & 6\\\\\n",
    "\\end{bmatrix} \\odot \n",
    "\\begin{bmatrix}\n",
    "  1 & 2 & 3\\\\\n",
    "  4 & 5 & 6\\\\\n",
    "\\end{bmatrix} = \n",
    "\\begin{bmatrix}\n",
    "  1 & 4 & 9\\\\\n",
    "  16 & 25 & 36\\\\\n",
    "\\end{bmatrix}\n",
    "$$"
   ]
  },
  {
   "cell_type": "code",
   "execution_count": 25,
   "id": "626ce795",
   "metadata": {},
   "outputs": [
    {
     "data": {
      "text/plain": [
       "<tf.Tensor: shape=(2, 3), dtype=int32, numpy=\n",
       "array([[ 1,  4,  9],\n",
       "       [16, 25, 36]])>"
      ]
     },
     "execution_count": 25,
     "metadata": {},
     "output_type": "execute_result"
    }
   ],
   "source": [
    "d*d# Hadamard product - Elementwise Multiplication"
   ]
  },
  {
   "cell_type": "markdown",
   "id": "8bde4eca",
   "metadata": {},
   "source": [
    "$$\n",
    "\\begin{bmatrix}\n",
    "  1 & 2 & 3\\\\\n",
    "  4 & 5 & 6\\\\\n",
    "\\end{bmatrix} \\odot \n",
    "\\begin{bmatrix}\n",
    "  1 \\\\ 2 \\\\ 3\\\\\n",
    "\\end{bmatrix} = \n",
    "\\begin{bmatrix}\n",
    "  1 & 4 & 9\\\\\n",
    "  4 & 10 & 18\\\\\n",
    "\\end{bmatrix}\n",
    "$$"
   ]
  },
  {
   "cell_type": "code",
   "execution_count": 27,
   "id": "6c4fcfb7",
   "metadata": {},
   "outputs": [
    {
     "data": {
      "text/plain": [
       "<tf.Tensor: shape=(2, 3), dtype=int32, numpy=\n",
       "array([[ 1,  4,  9],\n",
       "       [ 4, 10, 18]])>"
      ]
     },
     "execution_count": 27,
     "metadata": {},
     "output_type": "execute_result"
    }
   ],
   "source": [
    "# Elementwise multiplication with different shapes\n",
    "d*tf.constant([1,2,3])"
   ]
  },
  {
   "cell_type": "markdown",
   "id": "53489b44",
   "metadata": {},
   "source": [
    "$$\n",
    "\\begin{bmatrix}\n",
    "  1 & 2 & 3\\\\\n",
    "  4 & 5 & 6\\\\\n",
    "\\end{bmatrix} \\odot \n",
    "\\begin{bmatrix}\n",
    "  2\\\\\n",
    "\\end{bmatrix} = \n",
    "\\begin{bmatrix}\n",
    "  2 & 4 & 6\\\\\n",
    "  8 & 10 & 12\\\\\n",
    "\\end{bmatrix}\n",
    "$$"
   ]
  },
  {
   "cell_type": "code",
   "execution_count": 28,
   "id": "6e8221f4",
   "metadata": {},
   "outputs": [
    {
     "data": {
      "text/plain": [
       "<tf.Tensor: shape=(2, 3), dtype=int32, numpy=\n",
       "array([[ 2,  4,  6],\n",
       "       [ 8, 10, 12]])>"
      ]
     },
     "execution_count": 28,
     "metadata": {},
     "output_type": "execute_result"
    }
   ],
   "source": [
    "(d*tf.constant([2]))"
   ]
  },
  {
   "cell_type": "markdown",
   "id": "6879e504",
   "metadata": {},
   "source": [
    "<b> Matrix Multiplication - dot product </b>"
   ]
  },
  {
   "cell_type": "markdown",
   "id": "d10fc9a9",
   "metadata": {},
   "source": [
    "$$\n",
    "\\begin{bmatrix}\n",
    "  1 & 2 & 3\\\\\n",
    "  4 & 5 & 6\\\\\n",
    "\\end{bmatrix} \\cdot \n",
    "\\begin{bmatrix}\n",
    "  1\\\\\n",
    "  2\\\\\n",
    "  3\\\\\n",
    "\\end{bmatrix} = \n",
    "\\begin{bmatrix}\n",
    "  14\\\\\n",
    "  32\\\\\n",
    "\\end{bmatrix}\n",
    "$$"
   ]
  },
  {
   "cell_type": "code",
   "execution_count": 33,
   "id": "d00f9763",
   "metadata": {},
   "outputs": [
    {
     "data": {
      "text/plain": [
       "<tf.Tensor: shape=(2,), dtype=int32, numpy=array([14, 32])>"
      ]
     },
     "execution_count": 33,
     "metadata": {},
     "output_type": "execute_result"
    }
   ],
   "source": [
    "# Matrix Multiplication # dot product\n",
    "e = tf.tensordot(d, tf.constant([1,2,3]),1)\n",
    "e"
   ]
  },
  {
   "cell_type": "markdown",
   "id": "528e4cf5",
   "metadata": {},
   "source": [
    "$$\n",
    "\\begin{bmatrix}\n",
    "  1 & 2 & 3\\\\\n",
    "  4 & 5 & 6\\\\\n",
    "\\end{bmatrix} \\cdot \n",
    "\\begin{bmatrix}\n",
    "  1 & 4\\\\\n",
    "  2 & 5\\\\\n",
    "  3 & 6\\\\\n",
    "\\end{bmatrix}\n",
    " = \n",
    "\\begin{bmatrix}\n",
    "  14 & 32\\\\\n",
    "  32 & 77\\\\\n",
    "\\end{bmatrix}\n",
    "$$"
   ]
  },
  {
   "cell_type": "code",
   "execution_count": 34,
   "id": "9d198980",
   "metadata": {},
   "outputs": [
    {
     "name": "stdout",
     "output_type": "stream",
     "text": [
      "tf.Tensor(\n",
      "[[14 32]\n",
      " [32 77]], shape=(2, 2), dtype=int32)\n"
     ]
    }
   ],
   "source": [
    "f = tf.tensordot(d, tf.transpose(d),1)\n",
    "print(f)"
   ]
  }
 ],
 "metadata": {
  "kernelspec": {
   "display_name": "Python 3 (ipykernel)",
   "language": "python",
   "name": "python3"
  },
  "language_info": {
   "codemirror_mode": {
    "name": "ipython",
    "version": 3
   },
   "file_extension": ".py",
   "mimetype": "text/x-python",
   "name": "python",
   "nbconvert_exporter": "python",
   "pygments_lexer": "ipython3",
   "version": "3.10.9"
  }
 },
 "nbformat": 4,
 "nbformat_minor": 5
}
