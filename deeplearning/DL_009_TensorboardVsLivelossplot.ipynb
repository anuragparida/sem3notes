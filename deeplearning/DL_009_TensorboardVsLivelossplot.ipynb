{
 "cells": [
  {
   "cell_type": "markdown",
   "id": "6b044e3d",
   "metadata": {},
   "source": [
    "#  Tensorboard and Livelossplot\n",
    "\n",
    "In this notebook we learn about some shortcuts or convenience methods for modelling neuronal networks with tensorflow\n",
    "\n",
    "Get the necessary data files for the next session from https://www.kaggle.com/datasets/zalando-research/fashionmnist\n"
   ]
  },
  {
   "cell_type": "markdown",
   "id": "0f965a17",
   "metadata": {},
   "source": [
    "## Preparing the data (Fashion MNist)"
   ]
  },
  {
   "cell_type": "code",
   "execution_count": null,
   "id": "e9930901",
   "metadata": {},
   "outputs": [],
   "source": [
    "#!pip install scikit-learn\n",
    "#!pip install tensorflow==2.10\n",
    "import pandas as pd\n",
    "import numpy as np\n",
    "import tensorflow as tf \n",
    "import matplotlib.pyplot as plt\n",
    "import tensorflow as tf\n",
    "from tensorflow.keras.models import Sequential\n",
    "from tensorflow.keras.layers import Dense\n",
    "print(f\"Tesorflow version {tf.__version__}\")\n",
    "\n",
    "#read data with pandas\n",
    "dataTrain = pd.read_csv('data/fashion-mnist_train.csv')\n",
    "dataTest = pd.read_csv('data/fashion-mnist_test.csv')\n",
    "\n",
    "#convert to numpy and initialize variables for training\n",
    "X_train, y_train = dataTrain.iloc[:, 1:].to_numpy(), dataTrain.iloc[:, 0].to_numpy()\n",
    "X_test, y_test = dataTest.iloc[:, 1:].to_numpy(), dataTest.iloc[:, 0].to_numpy()\n",
    "\n",
    "#Define Classnames\n",
    "class_names = ['T-shirt/top', 'Trouser', 'Pullover', 'Dress', 'Coat',\n",
    "               'Sandal', 'Shirt', 'Sneaker', 'Bag', 'Ankle boot']\n",
    "\n",
    "# prepare ground truth as one-hot encoded values\n",
    "y_one_hot = tf.one_hot(y_train,len(class_names))\n",
    "y_one_hot_test = tf.one_hot(y_test,len(class_names))\n",
    "\n",
    "\n",
    "print(\"Fashion Mnist\")\n",
    "print(f\"Training data size: {X_train.shape}\")\n",
    "print(f\"Test data size:     {X_test.shape}\")\n",
    "print(f\"One Hot encoded:    {y_one_hot.shape}\")\n",
    "print(f\"Hardware: {tf.config.list_physical_devices('GPU')}\")"
   ]
  },
  {
   "cell_type": "markdown",
   "id": "9f757a88",
   "metadata": {},
   "source": [
    "# Tensorboard\n"
   ]
  },
  {
   "cell_type": "code",
   "execution_count": null,
   "id": "bc7157f9",
   "metadata": {},
   "outputs": [],
   "source": [
    "#conda install -c conda-forge tensorboard\n",
    "#tensorboard --logdir log"
   ]
  },
  {
   "cell_type": "code",
   "execution_count": null,
   "id": "ac08fecf",
   "metadata": {},
   "outputs": [],
   "source": [
    "model = Sequential([\n",
    "      Dense(100, activation='sigmoid'),\n",
    "      Dense(10, activation=\"softmax\")\n",
    "      ])\n",
    "model.compile(optimizer='sgd', loss=\"categorical_crossentropy\", metrics=['accuracy'])\n",
    "\n",
    "tensorboard_callback = tf.keras.callbacks.TensorBoard(\"log\", histogram_freq=1)\n",
    "\n",
    "model.fit(\n",
    "    X_train,\n",
    "    y_one_hot,\n",
    "    epochs=1000,\n",
    "    batch_size=100,\n",
    "    callbacks=[tensorboard_callback])\n"
   ]
  },
  {
   "cell_type": "markdown",
   "id": "41064911",
   "metadata": {},
   "source": [
    "# Livelossplot"
   ]
  },
  {
   "cell_type": "code",
   "execution_count": null,
   "id": "5e47c74c",
   "metadata": {},
   "outputs": [],
   "source": [
    "#pip install livelossplot "
   ]
  },
  {
   "cell_type": "code",
   "execution_count": null,
   "id": "8dbe7c51",
   "metadata": {},
   "outputs": [],
   "source": [
    "from livelossplot import PlotLossesKeras\n",
    "\n",
    "model = Sequential([\n",
    "      Dense(100, activation='sigmoid'),\n",
    "      Dense(10, activation=\"softmax\")\n",
    "      ])\n",
    "model.compile(optimizer='sgd', loss=\"categorical_crossentropy\", metrics=['accuracy'])\n",
    "\n",
    "plotlosses = PlotLossesKeras()\n",
    "model.fit(\n",
    "    X_train,\n",
    "    y_one_hot,\n",
    "    epochs=1000,\n",
    "    batch_size=100,\n",
    "    validation_data=(X_test,y_one_hot_test),\n",
    "    callbacks=[plotlosses])"
   ]
  }
 ],
 "metadata": {
  "kernelspec": {
   "display_name": "Python 3 (ipykernel)",
   "language": "python",
   "name": "python3"
  },
  "language_info": {
   "codemirror_mode": {
    "name": "ipython",
    "version": 3
   },
   "file_extension": ".py",
   "mimetype": "text/x-python",
   "name": "python",
   "nbconvert_exporter": "python",
   "pygments_lexer": "ipython3",
   "version": "3.10.9"
  }
 },
 "nbformat": 4,
 "nbformat_minor": 5
}
