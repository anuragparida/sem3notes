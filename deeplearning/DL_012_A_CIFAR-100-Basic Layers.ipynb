{
 "cells": [
  {
   "cell_type": "markdown",
   "id": "5c3e798d",
   "metadata": {},
   "source": [
    "# Cifar-100 Classification with basic layers"
   ]
  },
  {
   "cell_type": "code",
   "execution_count": 1,
   "id": "a49936a3",
   "metadata": {},
   "outputs": [
    {
     "name": "stdout",
     "output_type": "stream",
     "text": [
      "Training data (50000, 32, 32, 3)\n",
      "Training label (50000, 1)\n",
      "Max number of training label 99\n"
     ]
    }
   ],
   "source": [
    "import tensorflow as tf\n",
    "import numpy as np\n",
    "\n",
    "(x_train, y_train), (x_test, y_test) = tf.keras.datasets.cifar100.load_data()\n",
    "print(f\"Training data {x_train.shape}\")\n",
    "print(f\"Training label {y_train.shape}\")\n",
    "print(f\"Max number of training label {np.max(y_train)}\")\n"
   ]
  },
  {
   "cell_type": "markdown",
   "id": "483fc527",
   "metadata": {},
   "source": [
    "## Look at some examples"
   ]
  },
  {
   "cell_type": "code",
   "execution_count": null,
   "id": "c27bcdca",
   "metadata": {},
   "outputs": [],
   "source": [
    "import matplotlib.pyplot as plt\n",
    "fig, axs = plt.subplots(2, 2, figsize=(4, 4))\n",
    "\n",
    "for index, img in enumerate(x_train[0:4]):\n",
    "    axs[int(index/2),index%2].imshow(img, cmap=\"gray_r\")\n"
   ]
  },
  {
   "cell_type": "markdown",
   "id": "a132ead4",
   "metadata": {},
   "source": [
    "## Network without Convolutions"
   ]
  },
  {
   "cell_type": "code",
   "execution_count": 2,
   "id": "d6d86264",
   "metadata": {},
   "outputs": [
    {
     "name": "stdout",
     "output_type": "stream",
     "text": [
      "Epoch 1/100\n",
      "167/167 [==============================] - 8s 30ms/step - loss: 15.8082 - accuracy: 0.0433 - val_loss: 12.2183 - val_accuracy: 0.0897\n",
      "Epoch 2/100\n",
      "167/167 [==============================] - 4s 25ms/step - loss: 10.0605 - accuracy: 0.0730 - val_loss: 8.3425 - val_accuracy: 0.1020\n",
      "Epoch 3/100\n",
      "167/167 [==============================] - 4s 25ms/step - loss: 7.3759 - accuracy: 0.0816 - val_loss: 6.5518 - val_accuracy: 0.1008\n",
      "Epoch 4/100\n",
      "167/167 [==============================] - 4s 25ms/step - loss: 6.1097 - accuracy: 0.0847 - val_loss: 5.6933 - val_accuracy: 0.1035\n",
      "Epoch 5/100\n",
      "167/167 [==============================] - 4s 24ms/step - loss: 5.4773 - accuracy: 0.0888 - val_loss: 5.2441 - val_accuracy: 0.1054\n",
      "Epoch 6/100\n",
      "167/167 [==============================] - 4s 24ms/step - loss: 5.1288 - accuracy: 0.0892 - val_loss: 4.9823 - val_accuracy: 0.1030\n",
      "Epoch 7/100\n",
      "167/167 [==============================] - 4s 25ms/step - loss: 4.9145 - accuracy: 0.0890 - val_loss: 4.8152 - val_accuracy: 0.1043\n",
      "Epoch 8/100\n",
      "167/167 [==============================] - 4s 25ms/step - loss: 4.7727 - accuracy: 0.0917 - val_loss: 4.7013 - val_accuracy: 0.1026\n",
      "Epoch 9/100\n",
      "167/167 [==============================] - 4s 25ms/step - loss: 4.6717 - accuracy: 0.0928 - val_loss: 4.6188 - val_accuracy: 0.1039\n",
      "Epoch 10/100\n",
      "167/167 [==============================] - 4s 25ms/step - loss: 4.5960 - accuracy: 0.0932 - val_loss: 4.5543 - val_accuracy: 0.1003\n",
      "Epoch 11/100\n",
      "167/167 [==============================] - 4s 25ms/step - loss: 4.5352 - accuracy: 0.0936 - val_loss: 4.5028 - val_accuracy: 0.1013\n",
      "Epoch 12/100\n",
      "167/167 [==============================] - 4s 24ms/step - loss: 4.4854 - accuracy: 0.0939 - val_loss: 4.4592 - val_accuracy: 0.1022\n",
      "Epoch 13/100\n",
      "167/167 [==============================] - 4s 25ms/step - loss: 4.4455 - accuracy: 0.0976 - val_loss: 4.4215 - val_accuracy: 0.1019\n",
      "Epoch 14/100\n",
      "167/167 [==============================] - 4s 25ms/step - loss: 4.4109 - accuracy: 0.0978 - val_loss: 4.3941 - val_accuracy: 0.1026\n",
      "Epoch 15/100\n",
      "167/167 [==============================] - 4s 25ms/step - loss: 4.3822 - accuracy: 0.0986 - val_loss: 4.3685 - val_accuracy: 0.1043\n",
      "Epoch 16/100\n",
      "167/167 [==============================] - 4s 27ms/step - loss: 4.3578 - accuracy: 0.0991 - val_loss: 4.3477 - val_accuracy: 0.1011\n",
      "Epoch 17/100\n",
      "167/167 [==============================] - 4s 25ms/step - loss: 4.3372 - accuracy: 0.1002 - val_loss: 4.3259 - val_accuracy: 0.1032\n",
      "Epoch 18/100\n",
      "167/167 [==============================] - 4s 26ms/step - loss: 4.3164 - accuracy: 0.1026 - val_loss: 4.3118 - val_accuracy: 0.1048\n",
      "Epoch 19/100\n",
      "167/167 [==============================] - 4s 25ms/step - loss: 4.3025 - accuracy: 0.1023 - val_loss: 4.2963 - val_accuracy: 0.1078\n",
      "Epoch 20/100\n",
      "167/167 [==============================] - 4s 24ms/step - loss: 4.2879 - accuracy: 0.1038 - val_loss: 4.2815 - val_accuracy: 0.1084\n",
      "Epoch 21/100\n",
      "167/167 [==============================] - 4s 24ms/step - loss: 4.2748 - accuracy: 0.1048 - val_loss: 4.2757 - val_accuracy: 0.1083\n",
      "Epoch 22/100\n",
      "167/167 [==============================] - 4s 24ms/step - loss: 4.2663 - accuracy: 0.1039 - val_loss: 4.2632 - val_accuracy: 0.1074\n",
      "Epoch 23/100\n",
      "167/167 [==============================] - 4s 26ms/step - loss: 4.2545 - accuracy: 0.1053 - val_loss: 4.2540 - val_accuracy: 0.1080\n",
      "Epoch 24/100\n",
      "167/167 [==============================] - 4s 25ms/step - loss: 4.2468 - accuracy: 0.1062 - val_loss: 4.2477 - val_accuracy: 0.1136\n",
      "Epoch 25/100\n",
      "167/167 [==============================] - 4s 24ms/step - loss: 4.2401 - accuracy: 0.1065 - val_loss: 4.2469 - val_accuracy: 0.1059\n",
      "Epoch 26/100\n",
      "167/167 [==============================] - 4s 27ms/step - loss: 4.2343 - accuracy: 0.1071 - val_loss: 4.2330 - val_accuracy: 0.1077\n",
      "Epoch 27/100\n",
      "167/167 [==============================] - 4s 24ms/step - loss: 4.2259 - accuracy: 0.1075 - val_loss: 4.2305 - val_accuracy: 0.1104\n",
      "Epoch 28/100\n",
      "167/167 [==============================] - 4s 26ms/step - loss: 4.2228 - accuracy: 0.1093 - val_loss: 4.2282 - val_accuracy: 0.1088\n",
      "Epoch 29/100\n",
      "167/167 [==============================] - 4s 27ms/step - loss: 4.2176 - accuracy: 0.1085 - val_loss: 4.2202 - val_accuracy: 0.1095\n",
      "Epoch 30/100\n",
      "167/167 [==============================] - 4s 26ms/step - loss: 4.2127 - accuracy: 0.1086 - val_loss: 4.2165 - val_accuracy: 0.1119\n",
      "Epoch 31/100\n",
      "167/167 [==============================] - 4s 25ms/step - loss: 4.2088 - accuracy: 0.1101 - val_loss: 4.2123 - val_accuracy: 0.1148\n",
      "Epoch 32/100\n",
      "167/167 [==============================] - 4s 24ms/step - loss: 4.2044 - accuracy: 0.1102 - val_loss: 4.2075 - val_accuracy: 0.1112\n",
      "Epoch 33/100\n",
      "167/167 [==============================] - 5s 28ms/step - loss: 4.2010 - accuracy: 0.1099 - val_loss: 4.2019 - val_accuracy: 0.1141\n",
      "Epoch 34/100\n",
      "167/167 [==============================] - 4s 27ms/step - loss: 4.1983 - accuracy: 0.1106 - val_loss: 4.2010 - val_accuracy: 0.1079\n",
      "Epoch 35/100\n",
      "167/167 [==============================] - 4s 24ms/step - loss: 4.1942 - accuracy: 0.1089 - val_loss: 4.1998 - val_accuracy: 0.1155\n",
      "Epoch 36/100\n",
      "167/167 [==============================] - 4s 27ms/step - loss: 4.1904 - accuracy: 0.1112 - val_loss: 4.1929 - val_accuracy: 0.1141\n",
      "Epoch 37/100\n",
      "167/167 [==============================] - 5s 31ms/step - loss: 4.1874 - accuracy: 0.1120 - val_loss: 4.1896 - val_accuracy: 0.1155\n",
      "Epoch 38/100\n",
      "167/167 [==============================] - 4s 25ms/step - loss: 4.1853 - accuracy: 0.1119 - val_loss: 4.1890 - val_accuracy: 0.1139\n",
      "Epoch 39/100\n",
      "167/167 [==============================] - 4s 25ms/step - loss: 4.1834 - accuracy: 0.1111 - val_loss: 4.1899 - val_accuracy: 0.1122\n",
      "Epoch 40/100\n",
      "167/167 [==============================] - 4s 24ms/step - loss: 4.1809 - accuracy: 0.1107 - val_loss: 4.1868 - val_accuracy: 0.1117\n",
      "Epoch 41/100\n",
      "167/167 [==============================] - 4s 26ms/step - loss: 4.1765 - accuracy: 0.1120 - val_loss: 4.1792 - val_accuracy: 0.1134\n",
      "Epoch 42/100\n",
      "167/167 [==============================] - 4s 25ms/step - loss: 4.1729 - accuracy: 0.1125 - val_loss: 4.1774 - val_accuracy: 0.1116\n",
      "Epoch 43/100\n",
      "167/167 [==============================] - 4s 24ms/step - loss: 4.1714 - accuracy: 0.1119 - val_loss: 4.1817 - val_accuracy: 0.1144\n",
      "Epoch 44/100\n",
      "167/167 [==============================] - 4s 24ms/step - loss: 4.1691 - accuracy: 0.1122 - val_loss: 4.1728 - val_accuracy: 0.1143\n",
      "Epoch 45/100\n",
      "167/167 [==============================] - 5s 28ms/step - loss: 4.1674 - accuracy: 0.1126 - val_loss: 4.1721 - val_accuracy: 0.1134\n",
      "Epoch 46/100\n",
      "167/167 [==============================] - 4s 26ms/step - loss: 4.1654 - accuracy: 0.1116 - val_loss: 4.1731 - val_accuracy: 0.1169\n",
      "Epoch 47/100\n",
      "167/167 [==============================] - 4s 25ms/step - loss: 4.1629 - accuracy: 0.1129 - val_loss: 4.1655 - val_accuracy: 0.1193\n",
      "Epoch 48/100\n",
      "167/167 [==============================] - 4s 26ms/step - loss: 4.1616 - accuracy: 0.1135 - val_loss: 4.1642 - val_accuracy: 0.1130\n",
      "Epoch 49/100\n",
      "167/167 [==============================] - 4s 25ms/step - loss: 4.1586 - accuracy: 0.1130 - val_loss: 4.1714 - val_accuracy: 0.1159\n",
      "Epoch 50/100\n",
      "167/167 [==============================] - 4s 24ms/step - loss: 4.1559 - accuracy: 0.1130 - val_loss: 4.1658 - val_accuracy: 0.1155\n",
      "Epoch 51/100\n",
      "167/167 [==============================] - 4s 25ms/step - loss: 4.1532 - accuracy: 0.1137 - val_loss: 4.1613 - val_accuracy: 0.1183\n",
      "Epoch 52/100\n",
      "167/167 [==============================] - 4s 25ms/step - loss: 4.1528 - accuracy: 0.1135 - val_loss: 4.1587 - val_accuracy: 0.1176\n",
      "Epoch 53/100\n",
      "167/167 [==============================] - 4s 26ms/step - loss: 4.1511 - accuracy: 0.1145 - val_loss: 4.1544 - val_accuracy: 0.1178\n",
      "Epoch 54/100\n",
      "167/167 [==============================] - 5s 28ms/step - loss: 4.1480 - accuracy: 0.1145 - val_loss: 4.1574 - val_accuracy: 0.1146\n",
      "Epoch 55/100\n",
      "167/167 [==============================] - 4s 25ms/step - loss: 4.1461 - accuracy: 0.1156 - val_loss: 4.1512 - val_accuracy: 0.1182\n",
      "Epoch 56/100\n",
      "167/167 [==============================] - 4s 24ms/step - loss: 4.1445 - accuracy: 0.1145 - val_loss: 4.1471 - val_accuracy: 0.1172\n",
      "Epoch 57/100\n",
      "167/167 [==============================] - 4s 24ms/step - loss: 4.1428 - accuracy: 0.1151 - val_loss: 4.1460 - val_accuracy: 0.1179\n",
      "Epoch 58/100\n",
      "167/167 [==============================] - 4s 23ms/step - loss: 4.1408 - accuracy: 0.1134 - val_loss: 4.1447 - val_accuracy: 0.1192\n",
      "Epoch 59/100\n",
      "167/167 [==============================] - 4s 24ms/step - loss: 4.1409 - accuracy: 0.1163 - val_loss: 4.1406 - val_accuracy: 0.1153\n",
      "Epoch 60/100\n",
      "167/167 [==============================] - 4s 24ms/step - loss: 4.1391 - accuracy: 0.1150 - val_loss: 4.1416 - val_accuracy: 0.1175\n",
      "Epoch 61/100\n",
      "167/167 [==============================] - 4s 24ms/step - loss: 4.1355 - accuracy: 0.1169 - val_loss: 4.1396 - val_accuracy: 0.1186\n",
      "Epoch 62/100\n",
      "167/167 [==============================] - 4s 24ms/step - loss: 4.1350 - accuracy: 0.1146 - val_loss: 4.1369 - val_accuracy: 0.1180\n",
      "Epoch 63/100\n",
      "167/167 [==============================] - 4s 23ms/step - loss: 4.1333 - accuracy: 0.1170 - val_loss: 4.1373 - val_accuracy: 0.1206\n",
      "Epoch 64/100\n",
      "167/167 [==============================] - 4s 25ms/step - loss: 4.1317 - accuracy: 0.1154 - val_loss: 4.1406 - val_accuracy: 0.1148\n",
      "Epoch 65/100\n",
      "167/167 [==============================] - 4s 24ms/step - loss: 4.1295 - accuracy: 0.1174 - val_loss: 4.1324 - val_accuracy: 0.1178\n",
      "Epoch 66/100\n",
      "167/167 [==============================] - 4s 24ms/step - loss: 4.1274 - accuracy: 0.1155 - val_loss: 4.1349 - val_accuracy: 0.1199\n",
      "Epoch 67/100\n",
      "167/167 [==============================] - 4s 24ms/step - loss: 4.1261 - accuracy: 0.1162 - val_loss: 4.1351 - val_accuracy: 0.1204\n",
      "Epoch 68/100\n",
      "167/167 [==============================] - 4s 24ms/step - loss: 4.1253 - accuracy: 0.1166 - val_loss: 4.1329 - val_accuracy: 0.1191\n",
      "Epoch 69/100\n",
      "167/167 [==============================] - 5s 29ms/step - loss: 4.1230 - accuracy: 0.1159 - val_loss: 4.1292 - val_accuracy: 0.1226\n",
      "Epoch 70/100\n",
      "167/167 [==============================] - 4s 25ms/step - loss: 4.1222 - accuracy: 0.1168 - val_loss: 4.1251 - val_accuracy: 0.1226\n",
      "Epoch 71/100\n",
      "167/167 [==============================] - 5s 32ms/step - loss: 4.1213 - accuracy: 0.1170 - val_loss: 4.1304 - val_accuracy: 0.1206\n",
      "Epoch 72/100\n",
      "167/167 [==============================] - 4s 24ms/step - loss: 4.1197 - accuracy: 0.1182 - val_loss: 4.1224 - val_accuracy: 0.1196\n",
      "Epoch 73/100\n",
      "167/167 [==============================] - 5s 28ms/step - loss: 4.1171 - accuracy: 0.1192 - val_loss: 4.1246 - val_accuracy: 0.1205\n",
      "Epoch 74/100\n",
      "167/167 [==============================] - 4s 24ms/step - loss: 4.1172 - accuracy: 0.1194 - val_loss: 4.1159 - val_accuracy: 0.1200\n",
      "Epoch 75/100\n",
      "167/167 [==============================] - 5s 27ms/step - loss: 4.1155 - accuracy: 0.1176 - val_loss: 4.1195 - val_accuracy: 0.1239\n",
      "Epoch 76/100\n",
      "167/167 [==============================] - 4s 25ms/step - loss: 4.1127 - accuracy: 0.1184 - val_loss: 4.1178 - val_accuracy: 0.1232\n",
      "Epoch 77/100\n",
      "167/167 [==============================] - 4s 23ms/step - loss: 4.1097 - accuracy: 0.1204 - val_loss: 4.1136 - val_accuracy: 0.1241\n",
      "Epoch 78/100\n",
      "167/167 [==============================] - 5s 27ms/step - loss: 4.1109 - accuracy: 0.1185 - val_loss: 4.1095 - val_accuracy: 0.1256\n",
      "Epoch 79/100\n",
      "167/167 [==============================] - 4s 26ms/step - loss: 4.1080 - accuracy: 0.1189 - val_loss: 4.1102 - val_accuracy: 0.1237\n",
      "Epoch 80/100\n",
      "167/167 [==============================] - 4s 26ms/step - loss: 4.1067 - accuracy: 0.1208 - val_loss: 4.1123 - val_accuracy: 0.1266\n",
      "Epoch 81/100\n",
      "167/167 [==============================] - 4s 26ms/step - loss: 4.1050 - accuracy: 0.1231 - val_loss: 4.1133 - val_accuracy: 0.1250\n",
      "Epoch 82/100\n",
      "167/167 [==============================] - 4s 27ms/step - loss: 4.1036 - accuracy: 0.1218 - val_loss: 4.1093 - val_accuracy: 0.1271\n",
      "Epoch 83/100\n",
      "167/167 [==============================] - 4s 24ms/step - loss: 4.1024 - accuracy: 0.1222 - val_loss: 4.1080 - val_accuracy: 0.1271\n",
      "Epoch 84/100\n",
      "167/167 [==============================] - 4s 25ms/step - loss: 4.1007 - accuracy: 0.1223 - val_loss: 4.1100 - val_accuracy: 0.1233\n",
      "Epoch 85/100\n",
      "167/167 [==============================] - 4s 25ms/step - loss: 4.0986 - accuracy: 0.1242 - val_loss: 4.1039 - val_accuracy: 0.1302\n",
      "Epoch 86/100\n",
      "167/167 [==============================] - 4s 26ms/step - loss: 4.0976 - accuracy: 0.1230 - val_loss: 4.1039 - val_accuracy: 0.1275\n",
      "Epoch 87/100\n",
      "167/167 [==============================] - 5s 27ms/step - loss: 4.0956 - accuracy: 0.1242 - val_loss: 4.0999 - val_accuracy: 0.1272\n",
      "Epoch 88/100\n",
      "167/167 [==============================] - 4s 24ms/step - loss: 4.0952 - accuracy: 0.1220 - val_loss: 4.0994 - val_accuracy: 0.1293\n",
      "Epoch 89/100\n",
      "167/167 [==============================] - 4s 24ms/step - loss: 4.0946 - accuracy: 0.1248 - val_loss: 4.0992 - val_accuracy: 0.1273\n",
      "Epoch 90/100\n",
      "167/167 [==============================] - 4s 25ms/step - loss: 4.0917 - accuracy: 0.1250 - val_loss: 4.0947 - val_accuracy: 0.1283\n",
      "Epoch 91/100\n",
      "167/167 [==============================] - 5s 31ms/step - loss: 4.0882 - accuracy: 0.1251 - val_loss: 4.0966 - val_accuracy: 0.1293\n",
      "Epoch 92/100\n",
      "167/167 [==============================] - 5s 31ms/step - loss: 4.0876 - accuracy: 0.1260 - val_loss: 4.0934 - val_accuracy: 0.1313\n",
      "Epoch 93/100\n",
      "167/167 [==============================] - 4s 24ms/step - loss: 4.0854 - accuracy: 0.1268 - val_loss: 4.0916 - val_accuracy: 0.1273\n",
      "Epoch 94/100\n",
      "167/167 [==============================] - 4s 25ms/step - loss: 4.0850 - accuracy: 0.1263 - val_loss: 4.0917 - val_accuracy: 0.1322\n",
      "Epoch 95/100\n",
      "167/167 [==============================] - 5s 31ms/step - loss: 4.0834 - accuracy: 0.1282 - val_loss: 4.0870 - val_accuracy: 0.1329\n",
      "Epoch 96/100\n",
      "167/167 [==============================] - 6s 35ms/step - loss: 4.0814 - accuracy: 0.1279 - val_loss: 4.0879 - val_accuracy: 0.1319\n",
      "Epoch 97/100\n",
      "167/167 [==============================] - 6s 34ms/step - loss: 4.0820 - accuracy: 0.1278 - val_loss: 4.0841 - val_accuracy: 0.1302\n",
      "Epoch 98/100\n",
      "167/167 [==============================] - 5s 30ms/step - loss: 4.0784 - accuracy: 0.1290 - val_loss: 4.0839 - val_accuracy: 0.1338\n",
      "Epoch 99/100\n",
      "167/167 [==============================] - 5s 30ms/step - loss: 4.0780 - accuracy: 0.1288 - val_loss: 4.0822 - val_accuracy: 0.1305\n",
      "Epoch 100/100\n",
      "167/167 [==============================] - 4s 26ms/step - loss: 4.0765 - accuracy: 0.1286 - val_loss: 4.0867 - val_accuracy: 0.1304\n"
     ]
    },
    {
     "data": {
      "text/plain": [
       "<keras.callbacks.History at 0x1da05e99660>"
      ]
     },
     "execution_count": 2,
     "metadata": {},
     "output_type": "execute_result"
    }
   ],
   "source": [
    "from tensorflow.keras.optimizers import Adam\n",
    "from tensorflow.keras.models import Sequential\n",
    "from tensorflow.keras.layers import Dense, Flatten, BatchNormalization, Dropout\n",
    "from tensorflow.keras.regularizers import l2\n",
    "\n",
    "opt=Adam(\n",
    "    learning_rate=0.0001,\n",
    "    beta_1=0.8,\n",
    "    beta_2=0.999)\n",
    "\n",
    "model = Sequential([\n",
    "      Flatten(),\n",
    "      BatchNormalization(),\n",
    "      Dense(512, activation='sigmoid', kernel_regularizer=l2(0.01)),\n",
    "      Dropout(0.2),\n",
    "      BatchNormalization(),\n",
    "      Dense(512, activation='sigmoid', kernel_regularizer=l2(0.01)),\n",
    "      Dropout(0.2),\n",
    "      Dense(100, activation=\"softmax\", kernel_regularizer=l2(0.01))\n",
    "      ])\n",
    "model.compile(optimizer=opt, loss=\"sparse_categorical_crossentropy\", metrics=[\"accuracy\"]) \n",
    "\n",
    "model.fit(\n",
    "    x_train, \n",
    "    y_train, \n",
    "    validation_data=(x_test, y_test),\n",
    "    epochs=100,\n",
    "    batch_size=300\n",
    ")"
   ]
  },
  {
   "cell_type": "code",
   "execution_count": 6,
   "id": "cfabddcc",
   "metadata": {},
   "outputs": [
    {
     "name": "stdout",
     "output_type": "stream",
     "text": [
      "313/313 [==============================] - 2s 7ms/step\n"
     ]
    }
   ],
   "source": [
    "prediction = tf.argmax(model.predict(x_test),axis=1)"
   ]
  },
  {
   "cell_type": "code",
   "execution_count": 32,
   "id": "0fe96d4a",
   "metadata": {},
   "outputs": [
    {
     "data": {
      "text/plain": [
       "TensorShape([10000])"
      ]
     },
     "execution_count": 32,
     "metadata": {},
     "output_type": "execute_result"
    }
   ],
   "source": [
    "prediction.shape"
   ]
  },
  {
   "cell_type": "code",
   "execution_count": 38,
   "id": "8b527a97",
   "metadata": {},
   "outputs": [
    {
     "data": {
      "text/plain": [
       "1304"
      ]
     },
     "execution_count": 38,
     "metadata": {},
     "output_type": "execute_result"
    }
   ],
   "source": [
    "np.sum(y_test.reshape(-1)==prediction)"
   ]
  },
  {
   "cell_type": "markdown",
   "id": "68ef160b",
   "metadata": {},
   "source": [
    "## Plot Confusion Matrix"
   ]
  },
  {
   "cell_type": "code",
   "execution_count": 35,
   "id": "17f90cec",
   "metadata": {},
   "outputs": [],
   "source": [
    "from sklearn.metrics import confusion_matrix\n",
    "cm = confusion_matrix(prediction, y_test.reshape(-1))"
   ]
  },
  {
   "cell_type": "code",
   "execution_count": 36,
   "id": "8cb7afdd",
   "metadata": {},
   "outputs": [
    {
     "name": "stderr",
     "output_type": "stream",
     "text": [
      "C:\\Users\\herrler\\AppData\\Local\\Temp\\ipykernel_9108\\2234063754.py:32: UserWarning: FixedFormatter should only be used together with FixedLocator\n",
      "  ax.set_xticklabels([''] + classes)\n",
      "C:\\Users\\herrler\\AppData\\Local\\Temp\\ipykernel_9108\\2234063754.py:33: UserWarning: FixedFormatter should only be used together with FixedLocator\n",
      "  ax.set_yticklabels([''] + classes)\n"
     ]
    },
    {
     "data": {
      "image/png": "[encoded data removed]",
      "text/plain": [
       "<Figure size 2400x2400 with 2 Axes>"
      ]
     },
     "metadata": {},
     "output_type": "display_data"
    }
   ],
   "source": [
    "# Name of all classes in CIFAR-100\n",
    "classes = ['beaver', 'dolphin', 'otter', 'seal', 'whale', \n",
    "'aquarium' ,'fish', 'ray', 'shark', 'trout', \n",
    "'orchids', 'poppies', 'roses', 'sunflowers', 'tulips', \n",
    "'bottles', 'bowls', 'cans', 'cups', 'plates', \n",
    "'apples', 'mushrooms', 'oranges', 'pears', 'sweet peppers', \n",
    "'clock', 'computer keyboard', 'lamp', 'telephone', 'television', 'bed', 'chair', 'couch', 'table', 'wardrobe', \n",
    "'bee', 'beetle', 'butterfly', 'caterpillar', 'cockroach', \n",
    "'bear', 'leopard', 'lion', 'tiger', 'wolf', \n",
    "'bridge', 'castle', 'house', 'road', 'skyscraper', \n",
    "'cloud', 'forest', 'mountain', 'plain', 'sea', \n",
    "'camel', 'cattle', 'chimpanzee', 'elephant', 'kangaroo', \n",
    "'fox', 'porcupine', 'possum', 'raccoon', 'skunk', \n",
    "'crab', 'lobster', 'snail', 'spider', 'worm', \n",
    "'baby', 'boy', 'girl', 'man', 'woman', \n",
    "'crocodile', 'dinosaur', 'lizard', 'snake', 'turtle', \n",
    "'hamster', 'mouse', 'rabbit', 'shrew', 'squirrel', \n",
    "'maple', 'oak', 'palm', 'pine', 'willow', \n",
    "'bicycle', 'bus', 'motorcycle', 'pickup truck', 'train', \n",
    "'lawn-mower', 'rocket', 'streetcar', 'tank', 'tractor']\n",
    "     \n",
    "\n",
    "\n",
    "# Plot the confusion matrix\n",
    "import matplotlib.pyplot as plt\n",
    "#print(cm)\n",
    "fig = plt.figure(figsize=(24,24))\n",
    "ax = fig.add_subplot(211)\n",
    "cax = ax.matshow(cm)\n",
    "plt.title('Confusion matrix of the classifier')\n",
    "fig.colorbar(cax)\n",
    "ax.set_xticklabels([''] + classes)\n",
    "ax.set_yticklabels([''] + classes)\n",
    "plt.xlabel('Predicted')\n",
    "plt.ylabel('True')\n",
    "plt.show()\n",
    "     \n"
   ]
  },
  {
   "cell_type": "markdown",
   "id": "ab38532d",
   "metadata": {},
   "source": [
    "Scores in Tabular form"
   ]
  },
  {
   "cell_type": "code",
   "execution_count": 39,
   "id": "2fe519ab",
   "metadata": {},
   "outputs": [
    {
     "name": "stdout",
     "output_type": "stream",
     "text": [
      "                   precision    recall  f1-score   support\n",
      "\n",
      "           beaver      0.177     0.380     0.241       100\n",
      "          dolphin      0.092     0.080     0.086       100\n",
      "            otter      0.091     0.110     0.100       100\n",
      "             seal      0.105     0.060     0.076       100\n",
      "            whale      0.000     0.000     0.000       100\n",
      "         aquarium      0.123     0.070     0.089       100\n",
      "             fish      0.091     0.010     0.018       100\n",
      "              ray      0.101     0.170     0.126       100\n",
      "            shark      0.037     0.040     0.039       100\n",
      "            trout      0.833     0.050     0.094       100\n",
      "          orchids      0.000     0.000     0.000       100\n",
      "          poppies      0.068     0.030     0.042       100\n",
      "            roses      0.333     0.030     0.055       100\n",
      "       sunflowers      0.040     0.010     0.016       100\n",
      "           tulips      0.051     0.160     0.077       100\n",
      "          bottles      0.000     0.000     0.000       100\n",
      "            bowls      0.000     0.000     0.000       100\n",
      "             cans      0.115     0.130     0.122       100\n",
      "             cups      0.203     0.310     0.245       100\n",
      "           plates      0.000     0.000     0.000       100\n",
      "           apples      0.163     0.340     0.220       100\n",
      "        mushrooms      0.072     0.270     0.113       100\n",
      "          oranges      0.300     0.030     0.055       100\n",
      "            pears      0.128     0.540     0.207       100\n",
      "    sweet peppers      0.170     0.510     0.255       100\n",
      "            clock      0.045     0.010     0.016       100\n",
      "computer keyboard      0.000     0.000     0.000       100\n",
      "             lamp      0.056     0.010     0.017       100\n",
      "        telephone      0.000     0.000     0.000       100\n",
      "       television      0.000     0.000     0.000       100\n",
      "              bed      0.173     0.180     0.176       100\n",
      "            chair      0.064     0.030     0.041       100\n",
      "            couch      0.000     0.000     0.000       100\n",
      "            table      0.144     0.170     0.156       100\n",
      "         wardrobe      0.000     0.000     0.000       100\n",
      "              bee      0.060     0.040     0.048       100\n",
      "           beetle      0.062     0.090     0.073       100\n",
      "        butterfly      0.122     0.060     0.081       100\n",
      "      caterpillar      0.075     0.030     0.043       100\n",
      "        cockroach      0.037     0.010     0.016       100\n",
      "             bear      0.000     0.000     0.000       100\n",
      "          leopard      0.285     0.470     0.355       100\n",
      "             lion      0.000     0.000     0.000       100\n",
      "            tiger      0.121     0.110     0.115       100\n",
      "             wolf      0.000     0.000     0.000       100\n",
      "           bridge      0.000     0.000     0.000       100\n",
      "           castle      0.000     0.000     0.000       100\n",
      "            house      0.175     0.170     0.173       100\n",
      "             road      0.000     0.000     0.000       100\n",
      "       skyscraper      0.156     0.350     0.216       100\n",
      "            cloud      0.000     0.000     0.000       100\n",
      "           forest      0.078     0.120     0.094       100\n",
      "         mountain      0.348     0.770     0.480       100\n",
      "            plain      0.298     0.650     0.409       100\n",
      "              sea      0.138     0.330     0.194       100\n",
      "            camel      0.071     0.010     0.018       100\n",
      "           cattle      0.200     0.170     0.184       100\n",
      "       chimpanzee      0.300     0.060     0.100       100\n",
      "         elephant      0.073     0.060     0.066       100\n",
      "         kangaroo      0.073     0.040     0.052       100\n",
      "              fox      0.280     0.560     0.373       100\n",
      "        porcupine      0.115     0.170     0.137       100\n",
      "           possum      0.217     0.250     0.233       100\n",
      "          raccoon      0.000     0.000     0.000       100\n",
      "            skunk      0.028     0.120     0.045       100\n",
      "             crab      0.000     0.000     0.000       100\n",
      "          lobster      0.016     0.010     0.012       100\n",
      "            snail      0.108     0.120     0.114       100\n",
      "           spider      0.211     0.460     0.289       100\n",
      "             worm      0.080     0.070     0.075       100\n",
      "             baby      0.254     0.350     0.294       100\n",
      "              boy      0.141     0.190     0.162       100\n",
      "             girl      0.500     0.010     0.020       100\n",
      "              man      0.160     0.420     0.232       100\n",
      "            woman      0.071     0.150     0.096       100\n",
      "        crocodile      0.065     0.390     0.111       100\n",
      "         dinosaur      0.250     0.120     0.162       100\n",
      "           lizard      0.000     0.000     0.000       100\n",
      "            snake      0.000     0.000     0.000       100\n",
      "           turtle      0.000     0.000     0.000       100\n",
      "          hamster      0.000     0.000     0.000       100\n",
      "            mouse      0.000     0.000     0.000       100\n",
      "           rabbit      0.306     0.570     0.399       100\n",
      "            shrew      0.031     0.010     0.015       100\n",
      "         squirrel      0.000     0.000     0.000       100\n",
      "            maple      0.132     0.470     0.206       100\n",
      "              oak      0.112     0.400     0.175       100\n",
      "             palm      0.071     0.040     0.051       100\n",
      "             pine      0.049     0.160     0.075       100\n",
      "           willow      0.158     0.090     0.115       100\n",
      "          bicycle      0.000     0.000     0.000       100\n",
      "              bus      0.167     0.050     0.077       100\n",
      "       motorcycle      0.058     0.060     0.059       100\n",
      "     pickup truck      0.000     0.000     0.000       100\n",
      "            train      0.118     0.020     0.034       100\n",
      "       lawn-mower      0.162     0.280     0.205       100\n",
      "           rocket      0.078     0.060     0.068       100\n",
      "        streetcar      0.072     0.120     0.090       100\n",
      "             tank      0.143     0.050     0.074       100\n",
      "          tractor      0.000     0.000     0.000       100\n",
      "\n",
      "         accuracy                          0.130     10000\n",
      "        macro avg      0.106     0.130     0.094     10000\n",
      "     weighted avg      0.106     0.130     0.094     10000\n",
      "\n"
     ]
    },
    {
     "name": "stderr",
     "output_type": "stream",
     "text": [
      "C:\\Users\\herrler\\Anaconda3\\envs\\DL\\lib\\site-packages\\sklearn\\metrics\\_classification.py:1344: UndefinedMetricWarning: Precision and F-score are ill-defined and being set to 0.0 in labels with no predicted samples. Use `zero_division` parameter to control this behavior.\n",
      "  _warn_prf(average, modifier, msg_start, len(result))\n",
      "C:\\Users\\herrler\\Anaconda3\\envs\\DL\\lib\\site-packages\\sklearn\\metrics\\_classification.py:1344: UndefinedMetricWarning: Precision and F-score are ill-defined and being set to 0.0 in labels with no predicted samples. Use `zero_division` parameter to control this behavior.\n",
      "  _warn_prf(average, modifier, msg_start, len(result))\n",
      "C:\\Users\\herrler\\Anaconda3\\envs\\DL\\lib\\site-packages\\sklearn\\metrics\\_classification.py:1344: UndefinedMetricWarning: Precision and F-score are ill-defined and being set to 0.0 in labels with no predicted samples. Use `zero_division` parameter to control this behavior.\n",
      "  _warn_prf(average, modifier, msg_start, len(result))\n"
     ]
    }
   ],
   "source": [
    "from sklearn.metrics import classification_report\n",
    "print(classification_report(y_test.reshape(-1), prediction, target_names=classes, digits=3))"
   ]
  }
 ],
 "metadata": {
  "kernelspec": {
   "display_name": "Python 3 (ipykernel)",
   "language": "python",
   "name": "python3"
  },
  "language_info": {
   "codemirror_mode": {
    "name": "ipython",
    "version": 3
   },
   "file_extension": ".py",
   "mimetype": "text/x-python",
   "name": "python",
   "nbconvert_exporter": "python",
   "pygments_lexer": "ipython3",
   "version": "3.10.9"
  }
 },
 "nbformat": 4,
 "nbformat_minor": 5
}
